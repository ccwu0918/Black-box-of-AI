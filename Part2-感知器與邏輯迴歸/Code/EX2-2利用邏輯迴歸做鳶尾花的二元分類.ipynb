{
  "nbformat": 4,
  "nbformat_minor": 0,
  "metadata": {
    "kernelspec": {
      "display_name": "Python 3",
      "language": "python",
      "name": "python3"
    },
    "language_info": {
      "codemirror_mode": {
        "name": "ipython",
        "version": 3
      },
      "file_extension": ".py",
      "mimetype": "text/x-python",
      "name": "python",
      "nbconvert_exporter": "python",
      "pygments_lexer": "ipython3",
      "version": "3.6.9"
    },
    "colab": {
      "provenance": [],
      "include_colab_link": true
    }
  },
  "cells": [
    {
      "cell_type": "markdown",
      "metadata": {
        "id": "view-in-github",
        "colab_type": "text"
      },
      "source": [
        "<a href=\"https://colab.research.google.com/github/ccwu0918/Black-box-of-AI/blob/main/Part2-%E6%84%9F%E7%9F%A5%E5%99%A8%E8%88%87%E9%82%8F%E8%BC%AF%E8%BF%B4%E6%AD%B8/Code/EX2-2%E5%88%A9%E7%94%A8%E9%82%8F%E8%BC%AF%E8%BF%B4%E6%AD%B8%E5%81%9A%E9%B3%B6%E5%B0%BE%E8%8A%B1%E7%9A%84%E4%BA%8C%E5%85%83%E5%88%86%E9%A1%9E.ipynb\" target=\"_parent\"><img src=\"https://colab.research.google.com/assets/colab-badge.svg\" alt=\"Open In Colab\"/></a>"
      ]
    },
    {
      "cell_type": "code",
      "metadata": {
        "id": "UnUNmf7-Lb2L",
        "colab": {
          "base_uri": "https://localhost:8080/"
        },
        "outputId": "1b6d1792-3d20-4ec1-d18e-f3d960912e91"
      },
      "source": [
        "# from google.colab import drive\n",
        "# drive.mount('/content/drive')"
      ],
      "execution_count": null,
      "outputs": [
        {
          "output_type": "stream",
          "name": "stdout",
          "text": [
            "Mounted at /content/drive\n"
          ]
        }
      ]
    },
    {
      "cell_type": "markdown",
      "source": [
        "## 設定目前程式資料夾路徑(務必自行更改)"
      ],
      "metadata": {
        "id": "5YXtEE3c3Cu9"
      }
    },
    {
      "cell_type": "code",
      "source": [
        "folder = \"/content/\"\n",
        "# folder = \"/content/drive/MyDrive/解密AI黑盒子分享/\""
      ],
      "metadata": {
        "id": "sEjImyUA3D9C"
      },
      "execution_count": null,
      "outputs": []
    },
    {
      "cell_type": "markdown",
      "source": [
        "## 下載所需資料集及中文字型"
      ],
      "metadata": {
        "id": "HEYBdEJTO15u"
      }
    },
    {
      "cell_type": "code",
      "source": [
        "!wget https://github.com/ccwu0918/Black-box-of-AI/raw/main/Font/kaiu.ttf\n",
        "!wget https://raw.githubusercontent.com/ccwu0918/Black-box-of-AI/main/Dataset/iris_data.csv"
      ],
      "metadata": {
        "id": "KheTzuAgO60F"
      },
      "execution_count": null,
      "outputs": []
    },
    {
      "cell_type": "markdown",
      "metadata": {
        "id": "7P6I8_upLJPc"
      },
      "source": [
        "## 載入所需套件"
      ]
    },
    {
      "cell_type": "code",
      "metadata": {
        "id": "-4ziX3owLJPe"
      },
      "source": [
        "# 數據、矩陣處理套件numpy\n",
        "import numpy as np\n",
        "# 繪圖處理套件matplotlib\n",
        "import matplotlib.pyplot as plt\n",
        "# 繪圖處理套件顯示中文matplotlib.font_manager\n",
        "import matplotlib.font_manager as plt_font\n",
        "# 設定中文字體物件和字型檔案路徑\n",
        "twfont1 = plt_font.FontProperties(fname = folder + \"kaiu.ttf\")\n",
        "# twfont1 = plt_font.FontProperties(fname = folder + \"字型/kaiu.ttf\")\n",
        "from IPython import display"
      ],
      "execution_count": null,
      "outputs": []
    },
    {
      "cell_type": "markdown",
      "source": [
        "## 從檔案讀取資料集"
      ],
      "metadata": {
        "id": "OD0QNos23plj"
      }
    },
    {
      "cell_type": "code",
      "source": [
        "data = np.loadtxt(folder + \"iris_data.csv\", delimiter = \",\")\n",
        "# data = np.loadtxt(folder + \"資料集/iris_data.csv\", delimiter = \",\")"
      ],
      "metadata": {
        "id": "RM_dF4kK3rMc"
      },
      "execution_count": null,
      "outputs": []
    },
    {
      "cell_type": "markdown",
      "source": [
        "## 只篩選出山鳶尾(label=0)和雜色鳶尾(label=1)"
      ],
      "metadata": {
        "id": "BHQULD4nJx2_"
      }
    },
    {
      "cell_type": "code",
      "source": [],
      "metadata": {
        "id": "862RkS6WJzJN"
      },
      "execution_count": null,
      "outputs": []
    },
    {
      "cell_type": "markdown",
      "source": [
        "### 整理鳶尾花特徵資料集和分類標示資料集"
      ],
      "metadata": {
        "id": "P16gVTRaIC64"
      }
    },
    {
      "cell_type": "code",
      "source": [],
      "metadata": {
        "id": "TibcjQWcIEY-"
      },
      "execution_count": null,
      "outputs": []
    },
    {
      "cell_type": "markdown",
      "source": [
        "## 可視化鳶尾花特徵分佈圖"
      ],
      "metadata": {
        "id": "f0JGyHQk43nK"
      }
    },
    {
      "cell_type": "code",
      "source": [
        "plt.figure(figsize = (8, 5))\n",
        "plt.title(\"鳶尾花品種分佈圖\", fontproperties = twfont1, fontsize = 20) \n",
        "plt.xlabel(\"花萼長度\", fontproperties = twfont1, fontsize = 20) \n",
        "plt.ylabel(\"花萼寬度\", fontproperties = twfont1, fontsize = 20)\n",
        "\n",
        "\n",
        "\n",
        "plt.legend(prop = twfont1)\n",
        "plt.show()"
      ],
      "metadata": {
        "id": "EUS3msdz44Fb"
      },
      "execution_count": null,
      "outputs": []
    },
    {
      "cell_type": "markdown",
      "source": [
        "## 分割訓練資料集和測試資料集的特徵矩陣X、標籤矩陣Y"
      ],
      "metadata": {
        "id": "I0MEhFNmKWLe"
      }
    },
    {
      "cell_type": "code",
      "source": [],
      "metadata": {
        "id": "yCMG2mJvKo0A"
      },
      "execution_count": null,
      "outputs": []
    },
    {
      "cell_type": "markdown",
      "source": [
        "## 定義激活函數"
      ],
      "metadata": {
        "id": "nvDaCE9XK48H"
      }
    },
    {
      "cell_type": "code",
      "source": [],
      "metadata": {
        "id": "JxqKd0ZrmgLV"
      },
      "execution_count": null,
      "outputs": []
    },
    {
      "cell_type": "markdown",
      "source": [
        "## 定義模型運算函數"
      ],
      "metadata": {
        "id": "uQ6HI3KwKtQu"
      }
    },
    {
      "cell_type": "code",
      "source": [],
      "metadata": {
        "id": "mi1OE19uK0RE"
      },
      "execution_count": null,
      "outputs": []
    },
    {
      "cell_type": "markdown",
      "source": [
        "## 定義損失函數"
      ],
      "metadata": {
        "id": "gjErMWsImnyy"
      }
    },
    {
      "cell_type": "code",
      "source": [],
      "metadata": {
        "id": "7B25ilMJmw9s"
      },
      "execution_count": null,
      "outputs": []
    },
    {
      "cell_type": "markdown",
      "source": [
        "## 設定訓練模型的參數"
      ],
      "metadata": {
        "id": "nIvnUy6eohW_"
      }
    },
    {
      "cell_type": "code",
      "source": [
        "\n",
        "\n",
        "ETA = 0.07\n",
        "Step_W = []\n",
        "Step_B = []\n",
        "Step_L = []"
      ],
      "metadata": {
        "id": "jfoRIxTgolR6"
      },
      "execution_count": null,
      "outputs": []
    },
    {
      "cell_type": "markdown",
      "source": [
        "## 用迴圈訓練模型"
      ],
      "metadata": {
        "id": "gEOcMEQKosDZ"
      }
    },
    {
      "cell_type": "code",
      "source": [
        "for epoch in range(2500):\n",
        "  Step_B.append(float(B))\n",
        "  Step_W.append(W)\n",
        "  Yh = F(Train_X)\n",
        "\n",
        "\n",
        "  loss = Loss(Yh, Train_Y)\n",
        "  Step_L.append(loss)\n",
        "  if epoch % 5 == 4:\n",
        "    print(\"訓練次數\", epoch + 1, \"損失值\", loss)\n",
        "    display.clear_output(wait = True)"
      ],
      "metadata": {
        "id": "GsPh0vcxov4G"
      },
      "execution_count": null,
      "outputs": []
    },
    {
      "cell_type": "markdown",
      "source": [
        "## 觀察訓練過程中的損失函數Loss變化"
      ],
      "metadata": {
        "id": "o0JwY9N7rugT"
      }
    },
    {
      "cell_type": "code",
      "source": [
        "plt.figure(figsize = (9, 6))\n",
        "plt.title(\"Loss變化\", fontproperties = twfont1, fontsize = 20)\n",
        "plt.xlabel(\"訓練次數\", fontproperties = twfont1, fontsize = 20)\n",
        "plt.ylabel(\"損失函數\", fontproperties = twfont1, fontsize = 20)\n",
        "\n",
        "plt.legend(prop = twfont1)"
      ],
      "metadata": {
        "id": "BWsIchqUujxb"
      },
      "execution_count": null,
      "outputs": []
    },
    {
      "cell_type": "markdown",
      "source": [
        "## 觀察資料數據和模型函數"
      ],
      "metadata": {
        "id": "pCY9jXyEusvj"
      }
    },
    {
      "cell_type": "code",
      "source": [
        "x1 = np.linspace(-2, 2, 500)\n",
        "plt.figure(figsize = (8, 5))\n",
        "plt.title(\"鳶尾花品種分佈圖\", fontproperties = twfont1, fontsize = 20) \n",
        "plt.xlabel(\"花萼長度\", fontproperties = twfont1, fontsize = 20) \n",
        "plt.ylabel(\"花萼寬度\", fontproperties = twfont1, fontsize = 20)\n",
        "plt.scatter(data_x[0, 0], data_x[0, 1],c = \"b\",s = 40, label = \"山鳶尾\")\n",
        "plt.scatter(data_x[0, 0], data_x[0, 1],c = \"b\",s = 40, label = \"雜色鳶尾\")\n",
        "plt.scatter(Train_X[:, 0], Train_X[:,1], c = [\"b\" if i == 0 else \"r\" for i in Train_Y], s =40, marker = \"o\")\n",
        "plt.scatter(Test_X[:, 0], Test_X[:,1], c = [\"b\" if i == 0 else \"r\" for i in Test_Y], s = 40, marker = \"s\")\n",
        "\n",
        "plt.legend(prop = twfont1)"
      ],
      "metadata": {
        "id": "gK-u_IiKuuBh"
      },
      "execution_count": null,
      "outputs": []
    },
    {
      "cell_type": "markdown",
      "source": [
        "## 測試資料集的準確度"
      ],
      "metadata": {
        "id": "c6cOpIae-j83"
      }
    },
    {
      "cell_type": "code",
      "source": [
        "TestYh=F(Test_X)\n",
        "print(\"測試集的準確度\",,\"%\")"
      ],
      "metadata": {
        "id": "epVCOLkM-X6V"
      },
      "execution_count": null,
      "outputs": []
    }
  ]
}