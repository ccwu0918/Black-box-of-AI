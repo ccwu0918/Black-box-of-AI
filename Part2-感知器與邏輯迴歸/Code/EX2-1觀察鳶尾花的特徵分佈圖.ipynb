{
  "nbformat": 4,
  "nbformat_minor": 0,
  "metadata": {
    "kernelspec": {
      "display_name": "Python 3",
      "language": "python",
      "name": "python3"
    },
    "language_info": {
      "codemirror_mode": {
        "name": "ipython",
        "version": 3
      },
      "file_extension": ".py",
      "mimetype": "text/x-python",
      "name": "python",
      "nbconvert_exporter": "python",
      "pygments_lexer": "ipython3",
      "version": "3.6.9"
    },
    "colab": {
      "provenance": [],
      "include_colab_link": true
    }
  },
  "cells": [
    {
      "cell_type": "markdown",
      "metadata": {
        "id": "view-in-github",
        "colab_type": "text"
      },
      "source": [
        "<a href=\"https://colab.research.google.com/github/ccwu0918/Black-box-of-AI/blob/main/Part2-%E6%84%9F%E7%9F%A5%E5%99%A8%E8%88%87%E9%82%8F%E8%BC%AF%E8%BF%B4%E6%AD%B8/Code/EX2-1%E8%A7%80%E5%AF%9F%E9%B3%B6%E5%B0%BE%E8%8A%B1%E7%9A%84%E7%89%B9%E5%BE%B5%E5%88%86%E4%BD%88%E5%9C%96.ipynb\" target=\"_parent\"><img src=\"https://colab.research.google.com/assets/colab-badge.svg\" alt=\"Open In Colab\"/></a>"
      ]
    },
    {
      "cell_type": "code",
      "metadata": {
        "id": "UnUNmf7-Lb2L",
        "colab": {
          "base_uri": "https://localhost:8080/"
        },
        "outputId": "abedbd82-393d-4442-d4ba-cd9efcaef7ab"
      },
      "source": [
        "# from google.colab import drive\n",
        "# drive.mount('/content/drive')"
      ],
      "execution_count": null,
      "outputs": [
        {
          "output_type": "stream",
          "name": "stdout",
          "text": [
            "Mounted at /content/drive\n"
          ]
        }
      ]
    },
    {
      "cell_type": "markdown",
      "source": [
        "## 設定目前程式資料夾路徑(務必自行更改)"
      ],
      "metadata": {
        "id": "5YXtEE3c3Cu9"
      }
    },
    {
      "cell_type": "code",
      "source": [
        "folder = \"/content/\"\n",
        "# folder = \"/content/drive/MyDrive/解密AI黑盒子分享/\""
      ],
      "metadata": {
        "id": "sEjImyUA3D9C"
      },
      "execution_count": null,
      "outputs": []
    },
    {
      "cell_type": "markdown",
      "source": [
        "## 下載所需資料集及中文字型"
      ],
      "metadata": {
        "id": "HEYBdEJTO15u"
      }
    },
    {
      "cell_type": "code",
      "source": [
        "!wget https://github.com/ccwu0918/Black-box-of-AI/raw/main/Font/kaiu.ttf\n",
        "!wget https://raw.githubusercontent.com/ccwu0918/Black-box-of-AI/main/Dataset/iris_data.csv"
      ],
      "metadata": {
        "id": "KheTzuAgO60F"
      },
      "execution_count": null,
      "outputs": []
    },
    {
      "cell_type": "markdown",
      "metadata": {
        "id": "7P6I8_upLJPc"
      },
      "source": [
        "## 載入所需套件"
      ]
    },
    {
      "cell_type": "code",
      "metadata": {
        "id": "-4ziX3owLJPe"
      },
      "source": [
        "# 數據、矩陣處理套件numpy\n",
        "import numpy as np\n",
        "# 繪圖處理套件matplotlib\n",
        "import matplotlib.pyplot as plt\n",
        "# 繪圖處理套件顯示中文matplotlib.font_manager\n",
        "import matplotlib.font_manager as plt_font\n",
        "# 設定中文字體物件和字型檔案路徑\n",
        "twfont1 = plt_font.FontProperties(fname = folder + \"kaiu.ttf\")\n",
        "# twfont1 = plt_font.FontProperties(fname = folder + \"字型/kaiu.ttf\")"
      ],
      "execution_count": null,
      "outputs": []
    },
    {
      "cell_type": "markdown",
      "source": [
        "## 從檔案讀取資料集"
      ],
      "metadata": {
        "id": "OD0QNos23plj"
      }
    },
    {
      "cell_type": "code",
      "source": [
        "data = np.loadtxt(folder + \"iris_data.csv\", delimiter = \",\")\n",
        "# data = np.loadtxt(folder + \"資料集/iris_data.csv\", delimiter = \",\")"
      ],
      "metadata": {
        "id": "RM_dF4kK3rMc"
      },
      "execution_count": null,
      "outputs": []
    },
    {
      "cell_type": "markdown",
      "source": [
        "## 可視化鳶尾花特徵分佈圖"
      ],
      "metadata": {
        "id": "f0JGyHQk43nK"
      }
    },
    {
      "cell_type": "code",
      "source": [
        "plt.figure(figsize = (8, 5))\n",
        "plt.title(\"鳶尾花品種分佈圖\", fontproperties = twfont1, fontsize = 20) \n",
        "plt.xlabel(\"花萼長度\", fontproperties = twfont1, fontsize = 20) \n",
        "plt.ylabel(\"花萼寬度\", fontproperties = twfont1, fontsize = 20)\n",
        "\n",
        "\n",
        "\n",
        "plt.legend(prop = twfont1)\n",
        "plt.show()"
      ],
      "metadata": {
        "id": "EUS3msdz44Fb"
      },
      "execution_count": null,
      "outputs": []
    }
  ]
}