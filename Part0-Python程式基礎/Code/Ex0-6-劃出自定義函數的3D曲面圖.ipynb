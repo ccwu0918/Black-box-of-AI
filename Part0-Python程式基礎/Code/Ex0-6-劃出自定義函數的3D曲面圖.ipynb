{
  "nbformat": 4,
  "nbformat_minor": 0,
  "metadata": {
    "colab": {
      "provenance": [],
      "include_colab_link": true
    },
    "kernelspec": {
      "name": "python3",
      "display_name": "Python 3"
    },
    "language_info": {
      "name": "python"
    }
  },
  "cells": [
    {
      "cell_type": "markdown",
      "metadata": {
        "id": "view-in-github",
        "colab_type": "text"
      },
      "source": [
        "<a href=\"https://colab.research.google.com/github/ccwu0918/Black-box-of-AI/blob/main/Part0-Python%E7%A8%8B%E5%BC%8F%E5%9F%BA%E7%A4%8E/Code/Ex0-6-%E5%8A%83%E5%87%BA%E8%87%AA%E5%AE%9A%E7%BE%A9%E5%87%BD%E6%95%B8%E7%9A%843D%E6%9B%B2%E9%9D%A2%E5%9C%96.ipynb\" target=\"_parent\"><img src=\"https://colab.research.google.com/assets/colab-badge.svg\" alt=\"Open In Colab\"/></a>"
      ]
    },
    {
      "cell_type": "code",
      "source": [
        "# from google.colab import drive\n",
        "# drive.mount('/content/drive')"
      ],
      "metadata": {
        "id": "r1-Vg2yso1kb",
        "colab": {
          "base_uri": "https://localhost:8080/"
        },
        "outputId": "93dd7cf5-516b-4843-b05b-e25b10c59a78"
      },
      "execution_count": null,
      "outputs": [
        {
          "output_type": "stream",
          "name": "stdout",
          "text": [
            "Drive already mounted at /content/drive; to attempt to forcibly remount, call drive.mount(\"/content/drive\", force_remount=True).\n"
          ]
        }
      ]
    },
    {
      "cell_type": "markdown",
      "source": [
        "## 設定課程資料夾路徑(務必自行更改)"
      ],
      "metadata": {
        "id": "_-lfYzh639Bg"
      }
    },
    {
      "cell_type": "code",
      "execution_count": null,
      "metadata": {
        "id": "peAeFVZEn-tr"
      },
      "outputs": [],
      "source": [
        "folder = \"/content/\"\n",
        "# folder = \"/content/drive/MyDrive/解密AI黑盒子分享/\""
      ]
    },
    {
      "cell_type": "markdown",
      "source": [
        "## 下載所需資料集及中文字型\n",
        "\n"
      ],
      "metadata": {
        "id": "NYGUka45jPkW"
      }
    },
    {
      "cell_type": "code",
      "source": [
        "!wget https://github.com/ccwu0918/Black-box-of-AI/raw/main/Font/kaiu.ttf\n",
        "# !wget https://raw.githubusercontent.com/ccwu0918/Black-box-of-AI/main/Dataset/data3.csv"
      ],
      "metadata": {
        "id": "sZxGUVn6jRqE"
      },
      "execution_count": null,
      "outputs": []
    },
    {
      "cell_type": "markdown",
      "source": [
        "## 載入所需套件"
      ],
      "metadata": {
        "id": "lxyNI_rjn-tr"
      }
    },
    {
      "cell_type": "code",
      "source": [
        "# 數據、矩陣處理套件numpy\n",
        "import numpy as np\n",
        "# 繪圖處理套件matplotlib\n",
        "import matplotlib.pyplot as plt\n",
        "# 繪圖處理套件顯示中文matplotlib.font_manager\n",
        "import matplotlib.font_manager as plt_font\n",
        "# 設定中文字體物件和字型檔案路徑\n",
        "twfont1 = plt_font.FontProperties(fname = folder + \"kaiu.ttf\")\n",
        "# twfont1 = plt_font.FontProperties(fname = folder + \"字型/kaiu.ttf\")"
      ],
      "metadata": {
        "id": "CG4jH1CLn-ts"
      },
      "execution_count": null,
      "outputs": []
    },
    {
      "cell_type": "markdown",
      "source": [
        "## 自己定義一個雙變數函數F(x,y)=2(x-0.3)<sup>4</sup>+y<sup>4</sup>-4xy+1"
      ],
      "metadata": {
        "id": "FrYeSHDJ5_vn"
      }
    },
    {
      "cell_type": "code",
      "source": [],
      "metadata": {
        "id": "i4ifhqog5W2C"
      },
      "execution_count": null,
      "outputs": []
    },
    {
      "cell_type": "markdown",
      "source": [
        "## 各取x、y軸的數據點100個，範圍-2~+2，並交織網格"
      ],
      "metadata": {
        "id": "QTsmMK9gsT-B"
      }
    },
    {
      "cell_type": "code",
      "source": [],
      "metadata": {
        "id": "PS8wKNoqeo5H"
      },
      "execution_count": null,
      "outputs": []
    },
    {
      "cell_type": "markdown",
      "source": [
        "## 繪出函數3D曲面圖"
      ],
      "metadata": {
        "id": "TEbpAcge6Mj6"
      }
    },
    {
      "cell_type": "code",
      "source": [
        "fig = plt.figure(figsize = (15, 15))     # 設定繪圖區大小\n",
        "ax = fig.gca(projection = \"3d\")        # 設定為 3D 繪圖\n",
        "ax.set_zlim(0, 80)                # 設定z軸範圍\n",
        "ax.set_xlabel('X軸', fontproperties = twfont1) # x坐標軸名稱\n",
        "ax.set_ylabel('Y軸', fontproperties = twfont1) # y坐標軸名稱\n",
        "ax.set_zlabel('Z軸', fontproperties = twfont1) # y坐標軸名稱\n",
        "                          # 畫出3D曲面\n",
        "fig.colorbar(surf, shrink  =0.5, aspect = 5) # 色階對應值F\n",
        "ax.view_init(elev = 30, azim = 20)      # 設定觀看角度"
      ],
      "metadata": {
        "id": "LdU4UMcw5719"
      },
      "execution_count": null,
      "outputs": []
    }
  ]
}