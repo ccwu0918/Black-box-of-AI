{
  "nbformat": 4,
  "nbformat_minor": 0,
  "metadata": {
    "colab": {
      "provenance": [],
      "include_colab_link": true
    },
    "kernelspec": {
      "name": "python3",
      "display_name": "Python 3"
    },
    "language_info": {
      "name": "python"
    }
  },
  "cells": [
    {
      "cell_type": "markdown",
      "metadata": {
        "id": "view-in-github",
        "colab_type": "text"
      },
      "source": [
        "<a href=\"https://colab.research.google.com/github/ccwu0918/Black-box-of-AI/blob/main/Part0-Python%E7%A8%8B%E5%BC%8F%E5%9F%BA%E7%A4%8E/Code/Ex0-3-%E5%8A%83%E5%87%BA%E8%87%AA%E5%AE%9A%E7%BE%A9%E5%87%BD%E6%95%B8%E7%9A%84%E5%87%BD%E6%95%B8%E5%9C%96.ipynb\" target=\"_parent\"><img src=\"https://colab.research.google.com/assets/colab-badge.svg\" alt=\"Open In Colab\"/></a>"
      ]
    },
    {
      "cell_type": "code",
      "source": [
        "# from google.colab import drive\n",
        "# drive.mount('/content/drive')"
      ],
      "metadata": {
        "id": "r1-Vg2yso1kb",
        "colab": {
          "base_uri": "https://localhost:8080/"
        },
        "outputId": "80ff85b1-8099-4cea-faae-d800c65eed50"
      },
      "execution_count": null,
      "outputs": [
        {
          "output_type": "stream",
          "name": "stdout",
          "text": [
            "Drive already mounted at /content/drive; to attempt to forcibly remount, call drive.mount(\"/content/drive\", force_remount=True).\n"
          ]
        }
      ]
    },
    {
      "cell_type": "markdown",
      "source": [
        "## 設定課程資料夾路徑(務必自行更改)"
      ],
      "metadata": {
        "id": "_-lfYzh639Bg"
      }
    },
    {
      "cell_type": "code",
      "execution_count": null,
      "metadata": {
        "id": "CfJ5JNaRnlTH"
      },
      "outputs": [],
      "source": [
        "folder = \"/content/\"\n",
        "# folder = \"/content/drive/MyDrive/解密AI黑盒子分享/\""
      ]
    },
    {
      "cell_type": "markdown",
      "source": [
        "## 下載所需資料集及中文字型\n",
        "\n"
      ],
      "metadata": {
        "id": "NYGUka45jPkW"
      }
    },
    {
      "cell_type": "code",
      "source": [
        "!wget https://github.com/ccwu0918/Black-box-of-AI/raw/main/Font/kaiu.ttf\n",
        "# !wget https://raw.githubusercontent.com/ccwu0918/Black-box-of-AI/main/Dataset/data1.csv"
      ],
      "metadata": {
        "id": "sZxGUVn6jRqE"
      },
      "execution_count": null,
      "outputs": []
    },
    {
      "cell_type": "markdown",
      "source": [
        "## 載入所需套件"
      ],
      "metadata": {
        "id": "tBGTTZhl5mv1"
      }
    },
    {
      "cell_type": "code",
      "source": [
        "# 數據、矩陣處理套件numpy\n",
        "import numpy as np\n",
        "# 繪圖處理套件matplotlib\n",
        "import matplotlib.pyplot as plt\n",
        "# 繪圖處理套件顯示中文matplotlib.font_manager\n",
        "import matplotlib.font_manager as plt_font\n",
        "# 設定中文字體物件和字型檔案路徑\n",
        "twfont1 = plt_font.FontProperties(fname = folder + \"kaiu.ttf\")\n",
        "# twfont1 = plt_font.FontProperties(fname = folder + \"字型/kaiu.ttf\")"
      ],
      "metadata": {
        "id": "Xmp8dE4A5l8H"
      },
      "execution_count": null,
      "outputs": []
    },
    {
      "cell_type": "markdown",
      "source": [
        "## 定義一個自訂函數F(x)=x<sup>4</sup>-38x<sup>2</sup>-48x+24"
      ],
      "metadata": {
        "id": "FrYeSHDJ5_vn"
      }
    },
    {
      "cell_type": "code",
      "source": [],
      "metadata": {
        "id": "i4ifhqog5W2C"
      },
      "execution_count": null,
      "outputs": []
    },
    {
      "cell_type": "markdown",
      "source": [
        "## 取x軸上的座標點100個，範圍-7~+7"
      ],
      "metadata": {
        "id": "jgx-K-8emes4"
      }
    },
    {
      "cell_type": "code",
      "source": [],
      "metadata": {
        "id": "7HUSGn2nsBtH"
      },
      "execution_count": null,
      "outputs": []
    },
    {
      "cell_type": "markdown",
      "source": [
        "## 繪出自訂函數的關係圖"
      ],
      "metadata": {
        "id": "TEbpAcge6Mj6"
      }
    },
    {
      "cell_type": "code",
      "source": [
        "plt.figure(figsize = (6,5)) # 設定繪圖區大小\n",
        "#繪圖區的標題，設定用中文字體twfont1，字體大小15\n",
        "plt.title(\"劃出函數圖\", fontproperties = twfont1, fontsize = 15)\n",
        "#設定橫軸和縱軸的標題\n",
        "plt.xlabel(\"x\", fontproperties = twfont1, fontsize = 15)\n",
        "plt.ylabel(\"y\", fontproperties = twfont1, fontsize = 15)\n",
        "\n",
        "plt.legend(prop = twfont1, fontsize = 30)"
      ],
      "metadata": {
        "id": "LdU4UMcw5719"
      },
      "execution_count": null,
      "outputs": []
    }
  ]
}