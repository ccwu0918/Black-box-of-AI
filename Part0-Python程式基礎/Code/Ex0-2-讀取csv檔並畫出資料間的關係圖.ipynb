{
  "nbformat": 4,
  "nbformat_minor": 0,
  "metadata": {
    "colab": {
      "provenance": [],
      "include_colab_link": true
    },
    "kernelspec": {
      "name": "python3",
      "display_name": "Python 3"
    },
    "language_info": {
      "name": "python"
    }
  },
  "cells": [
    {
      "cell_type": "markdown",
      "metadata": {
        "id": "view-in-github",
        "colab_type": "text"
      },
      "source": [
        "<a href=\"https://colab.research.google.com/github/ccwu0918/Black-box-of-AI/blob/main/Part0-Python%E7%A8%8B%E5%BC%8F%E5%9F%BA%E7%A4%8E/Code/Ex0-2-%E8%AE%80%E5%8F%96csv%E6%AA%94%E4%B8%A6%E7%95%AB%E5%87%BA%E8%B3%87%E6%96%99%E9%96%93%E7%9A%84%E9%97%9C%E4%BF%82%E5%9C%96.ipynb\" target=\"_parent\"><img src=\"https://colab.research.google.com/assets/colab-badge.svg\" alt=\"Open In Colab\"/></a>"
      ]
    },
    {
      "cell_type": "code",
      "source": [
        "# from google.colab import drive\n",
        "# drive.mount('/content/drive')"
      ],
      "metadata": {
        "id": "r1-Vg2yso1kb",
        "colab": {
          "base_uri": "https://localhost:8080/"
        },
        "outputId": "17ead865-426c-4ecf-d7ab-702bd02e97c1"
      },
      "execution_count": null,
      "outputs": [
        {
          "output_type": "stream",
          "name": "stdout",
          "text": [
            "Mounted at /content/drive\n"
          ]
        }
      ]
    },
    {
      "cell_type": "markdown",
      "source": [
        "## 設定課程資料夾路徑(務必自行更改)"
      ],
      "metadata": {
        "id": "_-lfYzh639Bg"
      }
    },
    {
      "cell_type": "code",
      "execution_count": null,
      "metadata": {
        "id": "CfJ5JNaRnlTH"
      },
      "outputs": [],
      "source": [
        "folder = \"/content/\"\n",
        "# folder = \"/content/drive/MyDrive/解密AI黑盒子分享/\""
      ]
    },
    {
      "cell_type": "markdown",
      "source": [
        "## 下載所需資料集及中文字型\n",
        "\n"
      ],
      "metadata": {
        "id": "eez7p_6sf3r5"
      }
    },
    {
      "cell_type": "code",
      "source": [
        "!wget https://github.com/ccwu0918/Black-box-of-AI/raw/main/Font/kaiu.ttf\n",
        "!wget https://raw.githubusercontent.com/ccwu0918/Black-box-of-AI/main/Dataset/data1.csv"
      ],
      "metadata": {
        "id": "Vlvx0Y6jf5j_"
      },
      "execution_count": null,
      "outputs": []
    },
    {
      "cell_type": "markdown",
      "source": [
        "## 載入所需套件"
      ],
      "metadata": {
        "id": "tBGTTZhl5mv1"
      }
    },
    {
      "cell_type": "code",
      "source": [
        "# 數據、矩陣處理套件numpy\n",
        "import numpy as np\n",
        "# 繪圖處理套件matplotlib\n",
        "import matplotlib.pyplot as plt\n",
        "# 繪圖處理套件顯示中文matplotlib.font_manager\n",
        "import matplotlib.font_manager as plt_font\n",
        "# 設定中文字體物件和字型檔案路徑\n",
        "twfont1 = plt_font.FontProperties(fname = folder+\"kaiu.ttf\")\n",
        "# twfont1 = plt_font.FontProperties(fname = folder + \"字型/kaiu.ttf\")"
      ],
      "metadata": {
        "id": "Xmp8dE4A5l8H"
      },
      "execution_count": null,
      "outputs": []
    },
    {
      "cell_type": "markdown",
      "source": [
        "## 用np.loadtxt()讀取資料檔"
      ],
      "metadata": {
        "id": "FrYeSHDJ5_vn"
      }
    },
    {
      "cell_type": "code",
      "source": [
        "data = np.loadtxt(folder + \"data1.csv\", delimiter=\",\")\n",
        "# data = np.loadtxt(folder + \"資料集/data1.csv\", delimiter=\",\")"
      ],
      "metadata": {
        "id": "i4ifhqog5W2C"
      },
      "execution_count": null,
      "outputs": []
    },
    {
      "cell_type": "markdown",
      "source": [
        "## 繪出各列資料間的關係圖"
      ],
      "metadata": {
        "id": "TEbpAcge6Mj6"
      }
    },
    {
      "cell_type": "code",
      "source": [
        "plt.figure(figsize = (6, 5)) #設定繪圖區大小\n",
        "#繪圖區的標題，設定用中文字體twfont1，字體大小15\n",
        "plt.title(\"資料間的關係圖\", fontproperties = twfont1, fontsize = 15)\n",
        "#設定橫軸和縱軸的標題\n",
        "plt.xlabel(\"x\", fontproperties = twfont1, fontsize = 15)\n",
        "plt.ylabel(\"y\", fontproperties = twfont1, fontsize = 15)\n",
        "\n",
        "\n",
        "plt.legend(prop = twfont1, fontsize = 30)"
      ],
      "metadata": {
        "id": "LdU4UMcw5719"
      },
      "execution_count": null,
      "outputs": []
    }
  ]
}