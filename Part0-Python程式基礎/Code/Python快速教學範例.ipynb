{
  "nbformat": 4,
  "nbformat_minor": 0,
  "metadata": {
    "colab": {
      "provenance": [],
      "toc_visible": true,
      "include_colab_link": true
    },
    "kernelspec": {
      "name": "python3",
      "display_name": "Python 3"
    }
  },
  "cells": [
    {
      "cell_type": "markdown",
      "metadata": {
        "id": "view-in-github",
        "colab_type": "text"
      },
      "source": [
        "<a href=\"https://colab.research.google.com/github/ccwu0918/Black-box-of-AI/blob/main/Part0-Python%E7%A8%8B%E5%BC%8F%E5%9F%BA%E7%A4%8E/Code/Python%E5%BF%AB%E9%80%9F%E6%95%99%E5%AD%B8%E7%AF%84%E4%BE%8B.ipynb\" target=\"_parent\"><img src=\"https://colab.research.google.com/assets/colab-badge.svg\" alt=\"Open In Colab\"/></a>"
      ]
    },
    {
      "cell_type": "markdown",
      "source": [
        "## 程式範例3-1"
      ],
      "metadata": {
        "id": "fF0vrUmY5uMu"
      }
    },
    {
      "cell_type": "code",
      "source": [
        "print(\"這個程式用來將華氏轉換成攝氏\")\n",
        "f = float(input(\"請輸入華氏溫度\"))\n",
        "c = (f - 32) * 5/9\n",
        "print(\"攝氏溫度為:\",c)"
      ],
      "metadata": {
        "id": "U3xU1A6L6EfB"
      },
      "execution_count": null,
      "outputs": []
    },
    {
      "cell_type": "markdown",
      "source": [
        "## 程式範例3-2"
      ],
      "metadata": {
        "id": "vcHPnTi46K0U"
      }
    },
    {
      "cell_type": "code",
      "source": [
        "print(\"KGHS網路購票系統\")\n",
        "print(\"敬老票:100元\\n成人票:300元\\n兒童票:200元\")\n",
        "print(\"請輸入須購買之張數:\")\n",
        "num1 = int(input(\"敬老票:\"))\n",
        "num2 = int(input(\"成人票:\"))\n",
        "num3 = int(input(\"兒童票:\"))\n",
        "price = num1 * 100 + num2 * 300 + num3 * 200\n",
        "print(\"您所購買的票之總金額為:\", price)"
      ],
      "metadata": {
        "id": "vN_VbFJK6eMz"
      },
      "execution_count": null,
      "outputs": []
    },
    {
      "cell_type": "markdown",
      "source": [
        "# 程式實作-計算BMI值"
      ],
      "metadata": {
        "id": "rjhr_U9y6oUz"
      }
    },
    {
      "cell_type": "code",
      "source": [
        "f = float(input(\"請輸入體重(kg)\"))\n",
        "h = float(input(\"請輸入身高(m)\"))\n",
        "BMI = w / h**2\n",
        "print(\"您的BMI值為:\", BMI)"
      ],
      "metadata": {
        "id": "m5QCdsNm62eI"
      },
      "execution_count": null,
      "outputs": []
    },
    {
      "cell_type": "markdown",
      "source": [
        "## 程式範例4-1"
      ],
      "metadata": {
        "id": "ZuaWA2lF6Pxq"
      }
    },
    {
      "cell_type": "code",
      "source": [
        "num = int(input(\"請輸入任意整數:\"))\n",
        "if num % 2 == 0:\n",
        "  print(num, \"是偶數\")"
      ],
      "metadata": {
        "id": "hftFwNj57Erw"
      },
      "execution_count": null,
      "outputs": []
    },
    {
      "cell_type": "markdown",
      "source": [
        "## 程式範例4-2"
      ],
      "metadata": {
        "id": "Ae1ieDZ86T2l"
      }
    },
    {
      "cell_type": "code",
      "source": [
        "num = int(input(\"請輸入任意整數:\"))\n",
        "if num % 2 == 0:\n",
        "  print(num,\"是偶數\")\n",
        "else:\n",
        "  print(num,\"是奇數\")"
      ],
      "metadata": {
        "id": "QnlHGRuL7Yzw"
      },
      "execution_count": null,
      "outputs": []
    },
    {
      "cell_type": "markdown",
      "source": [
        "## 程式範例4-3"
      ],
      "metadata": {
        "id": "lbyYfeCo6U5-"
      }
    },
    {
      "cell_type": "code",
      "source": [
        "num1 = int(input(\"請輸入數字1:\")) \n",
        "num2 = int(input(\"請輸入數字2:\")) \n",
        "if num1 == num2: \n",
        "    print(num1,\"等於\",num2) \n",
        "elif num1 < num2: \n",
        "    print(num1,\"小於\",num2) \n",
        "else: \n",
        "    print(num1,\"大於\",num2)"
      ],
      "metadata": {
        "id": "4pw1f7R17qfp"
      },
      "execution_count": null,
      "outputs": []
    },
    {
      "cell_type": "markdown",
      "source": [
        "# 程式實作-計算BMI並輸出分級評等"
      ],
      "metadata": {
        "id": "3A6Of_bR78SR"
      }
    },
    {
      "cell_type": "code",
      "source": [],
      "metadata": {
        "id": "SgwvNJRV8WzA"
      },
      "execution_count": null,
      "outputs": []
    },
    {
      "cell_type": "markdown",
      "source": [
        "## 程式範例5-1"
      ],
      "metadata": {
        "id": "R7_ikc4W6WAv"
      }
    },
    {
      "cell_type": "code",
      "source": [
        "var=1  \n",
        "while var <= 5:\n",
        "  num = int(input(\"請輸入一個數字:\"))  \n",
        "  print(\"你輸入的數位是:\", num)\n",
        "  # var += 1  \n",
        "print(\"Good bye!\")\n",
        "# 以上的無限迴圈你可以使用shutdown kernel來中斷迴圈。"
      ],
      "metadata": {
        "id": "1roi5J-c8cQk"
      },
      "execution_count": null,
      "outputs": []
    },
    {
      "cell_type": "markdown",
      "source": [
        "## 程式範例5-2"
      ],
      "metadata": {
        "id": "n6dyQiYy6XYf"
      }
    },
    {
      "cell_type": "code",
      "source": [
        "sum = 0\n",
        "n = 1\n",
        "while n <= 10:\n",
        "  sum += n\n",
        "  n += 1\n",
        "print(\"1+2+...+10=\", sum)"
      ],
      "metadata": {
        "id": "9ms0fPdG8xpl"
      },
      "execution_count": null,
      "outputs": []
    },
    {
      "cell_type": "markdown",
      "source": [
        "# 程式實作-計算(1+2+3、、、+n) >10<sup>6</sup>,最小n是多少？"
      ],
      "metadata": {
        "id": "mp-cYiN29CH4"
      }
    },
    {
      "cell_type": "code",
      "source": [],
      "metadata": {
        "id": "HpSoi5yV9qS8"
      },
      "execution_count": null,
      "outputs": []
    },
    {
      "cell_type": "markdown",
      "source": [
        "## 程式範例5-3"
      ],
      "metadata": {
        "id": "VaQoPI2x6YTc"
      }
    },
    {
      "cell_type": "code",
      "source": [
        "# 可以使用內置函數range(結束值)或range(開始值,結束值[,間隔])，它會生成連續數列的迭代物件\n",
        "for i in range(5):        # 預設從0到<5，預設間隔1\n",
        "  print(i, end = \",\")\n",
        "for i in range(0, 10):      # 從0到<10，預設間隔1\n",
        "  print(i, end = \",\")\n",
        "for i in range(-10, 10, 3):   # 從-10到<10，間隔3\n",
        "  print(i, end = \",\")"
      ],
      "metadata": {
        "id": "Euz7NLCu9Sv9"
      },
      "execution_count": null,
      "outputs": []
    },
    {
      "cell_type": "markdown",
      "source": [
        "## 程式範例5-4"
      ],
      "metadata": {
        "id": "x2sXCigd6ZT6"
      }
    },
    {
      "cell_type": "code",
      "source": [
        "for i in range(1, 10):   # 列迴圈（上->下）\n",
        "  for j in range(1, 10): # 行迴圈（左->右）\n",
        "    print(\"*\", end = \"\")\n",
        "  print()"
      ],
      "metadata": {
        "id": "JzvUxf4Y-FPo"
      },
      "execution_count": null,
      "outputs": []
    },
    {
      "cell_type": "markdown",
      "source": [
        "# 程式實作-請印出九九乘法表"
      ],
      "metadata": {
        "id": "Iwub2A2--bVH"
      }
    },
    {
      "cell_type": "code",
      "source": [],
      "metadata": {
        "id": "P5iOAmDn-h9L"
      },
      "execution_count": null,
      "outputs": []
    },
    {
      "cell_type": "markdown",
      "source": [
        "## 程式範例6-1"
      ],
      "metadata": {
        "id": "LpONcyBN6aSu"
      }
    },
    {
      "cell_type": "code",
      "source": [
        "# 列表作為迭代物件，用for迴圈取出\n",
        "a = ['Google', 'facebook', 'yahoo', 'Taobao', 'QQ']\n",
        "for i in a:\n",
        "  print(i)"
      ],
      "metadata": {
        "id": "liGcG48W-0AC"
      },
      "execution_count": null,
      "outputs": []
    },
    {
      "cell_type": "markdown",
      "source": [
        "## 程式範例6-2"
      ],
      "metadata": {
        "id": "qTTqL9No_Vk8"
      }
    },
    {
      "cell_type": "code",
      "source": [
        "# 利用for迴圈取出二為列表中的元素資料\n",
        "ClassName = [[101,102,103], [201,202,203], [301,302,303]]\n",
        "for x in ClassName:\n",
        "  for y in  x:\n",
        "    print(y, end = \" \")\n",
        "  print()"
      ],
      "metadata": {
        "id": "G1xEBZkN_JpP"
      },
      "execution_count": null,
      "outputs": []
    },
    {
      "cell_type": "markdown",
      "source": [
        "## 程式範例6-3"
      ],
      "metadata": {
        "id": "8l6nydhk_9L7"
      }
    },
    {
      "cell_type": "code",
      "metadata": {
        "id": "tBU5bmUpESeC"
      },
      "source": [
        "# 結合range()和len()函數以取出一個列表的索引\n",
        "a = ['Google', 'facebook', 'yahoo', 'Taobao', 'QQ'] \n",
        "for i in range(len(a)): \n",
        "\tprint(\"索引:\", i, \"的資料為:\", a[i])"
      ],
      "execution_count": null,
      "outputs": []
    },
    {
      "cell_type": "markdown",
      "source": [
        "## 程式範例6-4"
      ],
      "metadata": {
        "id": "ps5w9tjuAgwX"
      }
    },
    {
      "cell_type": "code",
      "source": [
        "# 將1~1000中除以7餘數為5且除以11餘數為6的數挑選出來\n",
        "List = []\n",
        "for num in range(1,1001):\n",
        "  if num % 7 == 5 and num % 11 == 6:\n",
        "    List.append(num)\n",
        "print(List)"
      ],
      "metadata": {
        "id": "HM_M5kbHAYk9"
      },
      "execution_count": null,
      "outputs": []
    },
    {
      "cell_type": "markdown",
      "source": [
        "## 程式範例7-1"
      ],
      "metadata": {
        "id": "nBmbGCXxA0jC"
      }
    },
    {
      "cell_type": "code",
      "source": [
        "def area(w, h):\n",
        "  return w * h\n",
        "A = area(4, 5)\n",
        "print(\"面積\", A)"
      ],
      "metadata": {
        "id": "hM55DwlrAzd0"
      },
      "execution_count": null,
      "outputs": []
    },
    {
      "cell_type": "markdown",
      "source": [
        "## 程式範例7-2"
      ],
      "metadata": {
        "id": "RSrKBV8KBBj8"
      }
    },
    {
      "cell_type": "code",
      "source": [
        "def Circle(r): \n",
        "    return (2 * 3.14 * r, 3.14 * r * r)\n",
        "L, A = Circle(10)\n",
        "print(\"周長:\", L, \"面積:\", A)"
      ],
      "metadata": {
        "id": "fTD2t45aBNln"
      },
      "execution_count": null,
      "outputs": []
    },
    {
      "cell_type": "markdown",
      "source": [
        "# 程式實作-計算房貸"
      ],
      "metadata": {
        "id": "VWQvx5k-BWJH"
      }
    },
    {
      "cell_type": "code",
      "source": [],
      "metadata": {
        "id": "UYKhVAGgBees"
      },
      "execution_count": null,
      "outputs": []
    },
    {
      "cell_type": "markdown",
      "metadata": {
        "id": "cV-j5HKcYGx6"
      },
      "source": [
        "## 程式範例7-3"
      ]
    },
    {
      "cell_type": "code",
      "metadata": {
        "id": "x6bGV20DYcHM"
      },
      "source": [
        "def fun(a, b):\n",
        "    print(\"我是:\", a)\n",
        "    print(\"你是:\", b)\n",
        "fun(\"笨蛋\", \"天才\")"
      ],
      "execution_count": null,
      "outputs": []
    },
    {
      "cell_type": "markdown",
      "metadata": {
        "id": "J4-UfUcoO_d8"
      },
      "source": [
        "## 程式範例7-4"
      ]
    },
    {
      "cell_type": "code",
      "metadata": {
        "id": "DbR-3uUwSTvt"
      },
      "source": [
        "def fun(a, b):\n",
        "    print(\"我是:\", a)\n",
        "    print(\"你是:\", b)\n",
        "fun(b = \"笨蛋\", a =\"天才\")"
      ],
      "execution_count": null,
      "outputs": []
    },
    {
      "cell_type": "markdown",
      "metadata": {
        "id": "d6pkWCm9Luok"
      },
      "source": [
        "## 程式範例7-5\n"
      ]
    },
    {
      "cell_type": "code",
      "metadata": {
        "id": "rZE6ShMEL4Bt"
      },
      "source": [
        "def fun(name, school=\"高雄女中\"):\n",
        "\tprint (\"名字: \", name) \n",
        "\tprint (\"學校: \", school) \n",
        "\treturn \n",
        "fun(\"邱崑山\") \n",
        "fun(name = \"邱崑山\", school = \"台南一中\" )"
      ],
      "execution_count": null,
      "outputs": []
    },
    {
      "cell_type": "markdown",
      "metadata": {
        "id": "x7-PQvkjKqEq"
      },
      "source": [
        "## 程式範例7-6"
      ]
    },
    {
      "cell_type": "code",
      "metadata": {
        "id": "RmjGa8O3KpXr"
      },
      "source": [
        "def func1(*args):\n",
        "    print(\"傳進函式的資料是:\", args)\n",
        "    print(args[0])\n",
        "func1(1, 2, 3, 4, \"a\")"
      ],
      "execution_count": null,
      "outputs": []
    },
    {
      "cell_type": "markdown",
      "source": [
        "## 程式範例7-7"
      ],
      "metadata": {
        "id": "Dg2Kcg9rEq2M"
      }
    },
    {
      "cell_type": "code",
      "metadata": {
        "id": "ch4KqmQqLXX3"
      },
      "source": [
        "def func2(**kwargs):\n",
        "    print(\"傳進函式的資料是：\", kwargs)\n",
        "\n",
        "func2(a = 1, b = 2, c = 3)"
      ],
      "execution_count": null,
      "outputs": []
    },
    {
      "cell_type": "markdown",
      "metadata": {
        "id": "NNgZR98EGhgI"
      },
      "source": [
        "## 程式範例7-8"
      ]
    },
    {
      "cell_type": "code",
      "metadata": {
        "id": "l4QBxzToGfrF"
      },
      "source": [
        "def square(x):\n",
        "    y = x**power    #power使用全域變數\n",
        "    return y \n",
        "power = 2\n",
        "print(power) \n",
        "result = square(10) \n",
        "print(result)\n",
        "print(power)"
      ],
      "execution_count": null,
      "outputs": []
    },
    {
      "cell_type": "markdown",
      "source": [
        "## 程式範例7-9"
      ],
      "metadata": {
        "id": "iDn4ZopkE36T"
      }
    },
    {
      "cell_type": "code",
      "metadata": {
        "id": "qI0j2SB2HmBB"
      },
      "source": [
        "def square(x): \n",
        "    power = 4 \n",
        "    y = x**power    # power使用區域變數\n",
        "    return y \n",
        "power = 2 \n",
        "print(power)\n",
        "result = square(10)\n",
        "print(result)\n",
        "print(power)"
      ],
      "execution_count": null,
      "outputs": []
    },
    {
      "cell_type": "markdown",
      "source": [
        "## 程式範例7-10"
      ],
      "metadata": {
        "id": "VDnpgYHME6Tj"
      }
    },
    {
      "cell_type": "code",
      "metadata": {
        "id": "SJGENQDTINci"
      },
      "source": [
        "def square(x):\n",
        "  global power      # 宣告power使用全域變數\n",
        "  y = x**power\n",
        "  power=4    \n",
        "  return y \n",
        "power = 2\n",
        "print(power) \n",
        "result = square(10) \n",
        "print(result)\n",
        "print(power)"
      ],
      "execution_count": null,
      "outputs": []
    },
    {
      "cell_type": "markdown",
      "source": [
        "## 程式範例10-1"
      ],
      "metadata": {
        "id": "YX3sAd86DDGt"
      }
    },
    {
      "cell_type": "code",
      "source": [
        "import numpy as np\n",
        "x = np.linspace(0, 5, 6)\n",
        "print(\"x軸數據點\",x)\n",
        "y = np.linspace(0, 10, 6)\n",
        "print(\"y軸數據點\",y)\n",
        "x, y = np.meshgrid(x, y)\n",
        "print(\"網格點二維矩陣\\n\", x)\n",
        "print(\"網格點二維矩陣\\n\", y)"
      ],
      "metadata": {
        "id": "sTDcKFsdDIt2"
      },
      "execution_count": null,
      "outputs": []
    },
    {
      "cell_type": "markdown",
      "source": [
        "## 程式範例11-1"
      ],
      "metadata": {
        "id": "K7dGQ5mxCY11"
      }
    },
    {
      "cell_type": "code",
      "source": [
        "class Cars:\n",
        "  # 建構式\n",
        "  def __init__(self, color, seat):\n",
        "    self.color = color # 顏色屬性\n",
        "    self.seat = seat  # 座位屬性\n",
        "  # 方法(Method)\n",
        "  def ShowCar(self):\n",
        "    print(\"顏色：\", self.color, \"\\n座位：\", self.seat)\n",
        "Mycar = Cars(\"紅色\",4)\n",
        "Yourcar = Cars(\"藍色\",7)"
      ],
      "metadata": {
        "id": "dhe36bX5s-Eu"
      },
      "execution_count": null,
      "outputs": []
    },
    {
      "cell_type": "code",
      "source": [
        "Mycar.ShowCar()"
      ],
      "metadata": {
        "id": "xXx9yAjPuYHd"
      },
      "execution_count": null,
      "outputs": []
    },
    {
      "cell_type": "markdown",
      "source": [
        "## 程式範例11-2"
      ],
      "metadata": {
        "id": "tn7E6Jo6Chs9"
      }
    },
    {
      "cell_type": "code",
      "source": [
        "class ECars(Cars): \n",
        "  def __init__(self, color, seat, battery): # 子類別建構子函式\n",
        "    Cars.__init__(self, color, seat)     # 調用父類的構函 \n",
        "    self.battery = battery\n",
        "  def ShowCar(self):\n",
        "    print(\"顏色：\", self.color, \"\\n座位：\", self.seat, \"\\n電池：\", self.battery) "
      ],
      "metadata": {
        "id": "P5L1b_voyUb7"
      },
      "execution_count": null,
      "outputs": []
    },
    {
      "cell_type": "code",
      "source": [
        "Mycar = ECars(\"紅色\", 4, \"鋰電池\")\n",
        "Yourcar = ECars(\"藍色\", 7, \"磷酸鋰鐵電池\")"
      ],
      "metadata": {
        "id": "t1ydnDg90GBl"
      },
      "execution_count": null,
      "outputs": []
    },
    {
      "cell_type": "code",
      "source": [
        "Mycar.ShowCar()"
      ],
      "metadata": {
        "id": "EV4uOuSi0hWM"
      },
      "execution_count": null,
      "outputs": []
    }
  ]
}