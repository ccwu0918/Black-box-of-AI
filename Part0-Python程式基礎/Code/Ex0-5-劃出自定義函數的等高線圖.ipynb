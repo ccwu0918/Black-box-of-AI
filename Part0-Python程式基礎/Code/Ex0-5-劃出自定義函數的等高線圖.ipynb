{
  "nbformat": 4,
  "nbformat_minor": 0,
  "metadata": {
    "colab": {
      "provenance": [],
      "include_colab_link": true
    },
    "kernelspec": {
      "name": "python3",
      "display_name": "Python 3"
    },
    "language_info": {
      "name": "python"
    }
  },
  "cells": [
    {
      "cell_type": "markdown",
      "metadata": {
        "id": "view-in-github",
        "colab_type": "text"
      },
      "source": [
        "<a href=\"https://colab.research.google.com/github/ccwu0918/Black-box-of-AI/blob/main/Part0-Python%E7%A8%8B%E5%BC%8F%E5%9F%BA%E7%A4%8E/Code/Ex0-5-%E5%8A%83%E5%87%BA%E8%87%AA%E5%AE%9A%E7%BE%A9%E5%87%BD%E6%95%B8%E7%9A%84%E7%AD%89%E9%AB%98%E7%B7%9A%E5%9C%96.ipynb\" target=\"_parent\"><img src=\"https://colab.research.google.com/assets/colab-badge.svg\" alt=\"Open In Colab\"/></a>"
      ]
    },
    {
      "cell_type": "code",
      "source": [
        "# from google.colab import drive\n",
        "# drive.mount('/content/drive')"
      ],
      "metadata": {
        "id": "r1-Vg2yso1kb",
        "colab": {
          "base_uri": "https://localhost:8080/"
        },
        "outputId": "b9430669-59d8-40e9-b5d8-f64d72b01c71"
      },
      "execution_count": null,
      "outputs": [
        {
          "output_type": "stream",
          "name": "stdout",
          "text": [
            "Mounted at /content/drive\n"
          ]
        }
      ]
    },
    {
      "cell_type": "markdown",
      "source": [
        "## 設定課程資料夾路徑(務必自行更改)"
      ],
      "metadata": {
        "id": "c10gdUTzn-tq"
      }
    },
    {
      "cell_type": "code",
      "execution_count": null,
      "metadata": {
        "id": "peAeFVZEn-tr"
      },
      "outputs": [],
      "source": [
        "folder = \"/content/\"\n",
        "# folder = \"/content/drive/MyDrive/解密AI黑盒子分享/\""
      ]
    },
    {
      "cell_type": "markdown",
      "source": [
        "## 下載所需資料集及中文字型\n",
        "\n"
      ],
      "metadata": {
        "id": "NYGUka45jPkW"
      }
    },
    {
      "cell_type": "code",
      "source": [
        "!wget https://github.com/ccwu0918/Black-box-of-AI/raw/main/Font/kaiu.ttf\n",
        "!wget https://raw.githubusercontent.com/ccwu0918/Black-box-of-AI/main/Dataset/data3.csv"
      ],
      "metadata": {
        "id": "sZxGUVn6jRqE"
      },
      "execution_count": null,
      "outputs": []
    },
    {
      "cell_type": "markdown",
      "source": [
        "## 載入所需套件"
      ],
      "metadata": {
        "id": "lxyNI_rjn-tr"
      }
    },
    {
      "cell_type": "code",
      "source": [
        "# 數據、矩陣處理套件numpy\n",
        "import numpy as np\n",
        "# 繪圖處理套件matplotlib\n",
        "import matplotlib.pyplot as plt\n",
        "# 繪圖處理套件顯示中文matplotlib.font_manager\n",
        "import matplotlib.font_manager as plt_font\n",
        "# 設定中文字體物件和字型檔案路徑\n",
        "twfont1 = plt_font.FontProperties(fname = folder + \"kaiu.ttf\")\n",
        "# twfont1 = plt_font.FontProperties(fname = folder + \"字型/kaiu.ttf\")"
      ],
      "metadata": {
        "id": "CG4jH1CLn-ts"
      },
      "execution_count": null,
      "outputs": []
    },
    {
      "cell_type": "markdown",
      "source": [
        "## 自己定義一個雙變數函數F(x,y)=2(x-0.3)<sup>4</sup>+y<sup>4</sup>-4xy+1"
      ],
      "metadata": {
        "id": "FrYeSHDJ5_vn"
      }
    },
    {
      "cell_type": "code",
      "source": [],
      "metadata": {
        "id": "i4ifhqog5W2C"
      },
      "execution_count": null,
      "outputs": []
    },
    {
      "cell_type": "markdown",
      "source": [
        "## 各取x、y軸的數據點100個，範圍-2~+2，並交織網格"
      ],
      "metadata": {
        "id": "vkQLM2Qgtl-w"
      }
    },
    {
      "cell_type": "code",
      "source": [],
      "metadata": {
        "id": "PS8wKNoqeo5H"
      },
      "execution_count": null,
      "outputs": []
    },
    {
      "cell_type": "markdown",
      "source": [
        "## 觀察網格矩陣"
      ],
      "metadata": {
        "id": "XptOIyxvEhAj"
      }
    },
    {
      "cell_type": "code",
      "source": [],
      "metadata": {
        "id": "cnXL6rg1EmQJ"
      },
      "execution_count": null,
      "outputs": []
    },
    {
      "cell_type": "markdown",
      "source": [
        "## 繪出函數等高線圖"
      ],
      "metadata": {
        "id": "TEbpAcge6Mj6"
      }
    },
    {
      "cell_type": "code",
      "source": [
        "#設定繪圖區大小\n",
        "plt.figure(figsize=(10,10))\n",
        "#繪圖區的標題，設定用中文字體twfont1，字體大小20\n",
        "plt.title(\"等高線圖\",fontproperties=twfont1,fontsize=20)\n",
        "#設定橫軸和縱軸的標題\n",
        "plt.xlabel(\"x\",fontproperties=twfont1,fontsize=15)\n",
        "plt.ylabel(\"y\",fontproperties=twfont1,fontsize=15)\n",
        "\n"
      ],
      "metadata": {
        "id": "LdU4UMcw5719"
      },
      "execution_count": null,
      "outputs": []
    }
  ]
}