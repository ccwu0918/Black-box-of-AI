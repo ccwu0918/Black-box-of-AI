{
  "nbformat": 4,
  "nbformat_minor": 0,
  "metadata": {
    "colab": {
      "provenance": [],
      "include_colab_link": true
    },
    "kernelspec": {
      "name": "python3",
      "display_name": "Python 3"
    },
    "language_info": {
      "name": "python"
    }
  },
  "cells": [
    {
      "cell_type": "markdown",
      "metadata": {
        "id": "view-in-github",
        "colab_type": "text"
      },
      "source": [
        "<a href=\"https://colab.research.google.com/github/ccwu0918/Black-box-of-AI/blob/main/Part0-Python%E7%A8%8B%E5%BC%8F%E5%9F%BA%E7%A4%8E/Code/Ex0-1-%E5%B0%87csv%E6%AA%94%E8%B3%87%E6%96%99%E8%AE%80%E9%80%B2numpy%E7%9F%A9%E9%99%A3.ipynb\" target=\"_parent\"><img src=\"https://colab.research.google.com/assets/colab-badge.svg\" alt=\"Open In Colab\"/></a>"
      ]
    },
    {
      "cell_type": "code",
      "source": [
        "# from google.colab import drive\n",
        "# drive.mount('/content/drive')"
      ],
      "metadata": {
        "id": "r1-Vg2yso1kb"
      },
      "execution_count": null,
      "outputs": []
    },
    {
      "cell_type": "markdown",
      "source": [
        "## 設定課程資料夾路徑(務必自行更改)"
      ],
      "metadata": {
        "id": "_-lfYzh639Bg"
      }
    },
    {
      "cell_type": "code",
      "execution_count": null,
      "metadata": {
        "id": "CfJ5JNaRnlTH"
      },
      "outputs": [],
      "source": [
        "folder = \"/content/\"\n",
        "# folder=\"/content/drive/MyDrive/解密AI黑盒子分享/\""
      ]
    },
    {
      "cell_type": "markdown",
      "source": [
        "## 下載所需資料集"
      ],
      "metadata": {
        "id": "GzfVclcbdlc9"
      }
    },
    {
      "cell_type": "code",
      "source": [
        "!wget https://raw.githubusercontent.com/ccwu0918/Black-box-of-AI/main/Dataset/data1.csv"
      ],
      "metadata": {
        "id": "imhrohwQdj7G"
      },
      "execution_count": null,
      "outputs": []
    },
    {
      "cell_type": "markdown",
      "source": [
        "## 載入所需套件"
      ],
      "metadata": {
        "id": "tBGTTZhl5mv1"
      }
    },
    {
      "cell_type": "code",
      "source": [
        "import numpy as np"
      ],
      "metadata": {
        "id": "Xmp8dE4A5l8H"
      },
      "execution_count": null,
      "outputs": []
    },
    {
      "cell_type": "markdown",
      "source": [
        "## 用np.loadtxt()讀取資料檔"
      ],
      "metadata": {
        "id": "FrYeSHDJ5_vn"
      }
    },
    {
      "cell_type": "code",
      "source": [],
      "metadata": {
        "id": "i4ifhqog5W2C"
      },
      "execution_count": null,
      "outputs": []
    },
    {
      "cell_type": "markdown",
      "source": [
        "## 顯示讀入的資料"
      ],
      "metadata": {
        "id": "TEbpAcge6Mj6"
      }
    },
    {
      "cell_type": "code",
      "source": [],
      "metadata": {
        "id": "r_4CozywCBio"
      },
      "execution_count": null,
      "outputs": []
    },
    {
      "cell_type": "markdown",
      "source": [
        "## 檢查矩陣形狀"
      ],
      "metadata": {
        "id": "z78g6p2FEH_z"
      }
    },
    {
      "cell_type": "code",
      "source": [],
      "metadata": {
        "id": "b5TRuiwoERGu"
      },
      "execution_count": null,
      "outputs": []
    },
    {
      "cell_type": "markdown",
      "source": [
        "## 分割矩陣每一列依序為x、y1、y1"
      ],
      "metadata": {
        "id": "BVigbS5gEZe7"
      }
    },
    {
      "cell_type": "code",
      "source": [],
      "metadata": {
        "id": "jBHwjzAOEmaU"
      },
      "execution_count": null,
      "outputs": []
    }
  ]
}
