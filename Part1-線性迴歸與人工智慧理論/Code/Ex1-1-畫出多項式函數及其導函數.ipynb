{
  "nbformat": 4,
  "nbformat_minor": 0,
  "metadata": {
    "colab": {
      "provenance": [],
      "include_colab_link": true
    },
    "kernelspec": {
      "name": "python3",
      "display_name": "Python 3"
    },
    "language_info": {
      "name": "python"
    }
  },
  "cells": [
    {
      "cell_type": "markdown",
      "metadata": {
        "id": "view-in-github",
        "colab_type": "text"
      },
      "source": [
        "<a href=\"https://colab.research.google.com/github/ccwu0918/Black-box-of-AI/blob/main/Part1-%E7%B7%9A%E6%80%A7%E8%BF%B4%E6%AD%B8%E8%88%87%E4%BA%BA%E5%B7%A5%E6%99%BA%E6%85%A7%E7%90%86%E8%AB%96/Code/Ex1-1-%E7%95%AB%E5%87%BA%E5%A4%9A%E9%A0%85%E5%BC%8F%E5%87%BD%E6%95%B8%E5%8F%8A%E5%85%B6%E5%B0%8E%E5%87%BD%E6%95%B8.ipynb\" target=\"_parent\"><img src=\"https://colab.research.google.com/assets/colab-badge.svg\" alt=\"Open In Colab\"/></a>"
      ]
    },
    {
      "cell_type": "code",
      "source": [
        "# from google.colab import drive\n",
        "# drive.mount('/content/drive')"
      ],
      "metadata": {
        "colab": {
          "base_uri": "https://localhost:8080/"
        },
        "id": "vLI5vzNpZI5b",
        "outputId": "4ee4f136-2ceb-4d87-99ae-320caa8d7fd1"
      },
      "execution_count": null,
      "outputs": [
        {
          "output_type": "stream",
          "name": "stdout",
          "text": [
            "Drive already mounted at /content/drive; to attempt to forcibly remount, call drive.mount(\"/content/drive\", force_remount=True).\n"
          ]
        }
      ]
    },
    {
      "cell_type": "markdown",
      "source": [
        "## 設定目前程式資料夾路徑(務必自行更改)"
      ],
      "metadata": {
        "id": "1kvf3zAtH494"
      }
    },
    {
      "cell_type": "code",
      "execution_count": null,
      "metadata": {
        "id": "peAeFVZEn-tr"
      },
      "outputs": [],
      "source": [
        "folder = \"/content/\"\n",
        "# folder = \"/content/drive/MyDrive/解密AI黑盒子分享/\""
      ]
    },
    {
      "cell_type": "markdown",
      "source": [
        "## 下載所需資料集及中文字型\n",
        "\n"
      ],
      "metadata": {
        "id": "NYGUka45jPkW"
      }
    },
    {
      "cell_type": "code",
      "source": [
        "!wget https://github.com/ccwu0918/Black-box-of-AI/raw/main/Font/kaiu.ttf\n",
        "# !wget https://raw.githubusercontent.com/ccwu0918/Black-box-of-AI/main/Dataset/data3.csv"
      ],
      "metadata": {
        "id": "sZxGUVn6jRqE"
      },
      "execution_count": null,
      "outputs": []
    },
    {
      "cell_type": "markdown",
      "source": [
        "## 載入所需套件"
      ],
      "metadata": {
        "id": "lxyNI_rjn-tr"
      }
    },
    {
      "cell_type": "code",
      "source": [
        "# 數據、矩陣處理套件numpy\n",
        "import numpy as np\n",
        "# 繪圖處理套件matplotlib\n",
        "import matplotlib.pyplot as plt\n",
        "# 繪圖處理套件顯示中文matplotlib.font_manager\n",
        "import matplotlib.font_manager as plt_font\n",
        "# 設定中文字體物件和字型檔案路徑\n",
        "twfont1 = plt_font.FontProperties(fname = folder + \"kaiu.ttf\")\n",
        "# twfont1 = plt_font.FontProperties(fname = folder + \"字型/kaiu.ttf\")"
      ],
      "metadata": {
        "id": "CG4jH1CLn-ts"
      },
      "execution_count": null,
      "outputs": []
    },
    {
      "cell_type": "markdown",
      "source": [
        "## 定義一個自訂函數F(x)=x<sup>4</sup>-38x<sup>2</sup>-48x+24"
      ],
      "metadata": {
        "id": "QrrOKtiHUnmz"
      }
    },
    {
      "cell_type": "code",
      "source": [],
      "metadata": {
        "id": "AZ2GRcxOGzTP"
      },
      "execution_count": null,
      "outputs": []
    },
    {
      "cell_type": "markdown",
      "source": [
        "## 定義多項式函數的導函數"
      ],
      "metadata": {
        "id": "mzZybXk1UuoC"
      }
    },
    {
      "cell_type": "code",
      "source": [],
      "metadata": {
        "id": "ltd3yvMNU4qy"
      },
      "execution_count": null,
      "outputs": []
    },
    {
      "cell_type": "markdown",
      "source": [
        "## 取x軸上的座標點100個，範圍-7~+7"
      ],
      "metadata": {
        "id": "3ZGTr5XWVCnc"
      }
    },
    {
      "cell_type": "code",
      "source": [],
      "metadata": {
        "id": "rw0KiPqxVWFb"
      },
      "execution_count": null,
      "outputs": []
    },
    {
      "cell_type": "markdown",
      "source": [
        "## 繪製函數圖形"
      ],
      "metadata": {
        "id": "6nhqa5U2Vbmk"
      }
    },
    {
      "cell_type": "code",
      "source": [
        "plt.figure(figsize = (6, 5)) # 設定繪圖區大小\n",
        "# 繪圖區的標題，設定用中文字體twfont1，字體大小15\n",
        "plt.title(\"多項式和其導函數\", fontproperties = twfont1, fontsize = 15)\n",
        "# 設定橫軸和縱軸的標題\n",
        "plt.xlabel(\"x\", fontproperties = twfont1, fontsize = 15)\n",
        "plt.ylabel(\"y\", fontproperties = twfont1, fontsize = 15)\n",
        "\n",
        "\n",
        "\n",
        "plt.legend(prop = twfont1, fontsize = 30)"
      ],
      "metadata": {
        "id": "tT41yhQoA3eW"
      },
      "execution_count": null,
      "outputs": []
    }
  ]
}