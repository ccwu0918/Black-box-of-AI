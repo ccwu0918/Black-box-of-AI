{
  "nbformat": 4,
  "nbformat_minor": 0,
  "metadata": {
    "colab": {
      "provenance": [],
      "include_colab_link": true
    },
    "kernelspec": {
      "name": "python3",
      "display_name": "Python 3"
    },
    "language_info": {
      "name": "python"
    }
  },
  "cells": [
    {
      "cell_type": "markdown",
      "metadata": {
        "id": "view-in-github",
        "colab_type": "text"
      },
      "source": [
        "<a href=\"https://colab.research.google.com/github/ccwu0918/Black-box-of-AI/blob/main/Part1-%E7%B7%9A%E6%80%A7%E8%BF%B4%E6%AD%B8%E8%88%87%E4%BA%BA%E5%B7%A5%E6%99%BA%E6%85%A7%E7%90%86%E8%AB%96/Code/Ex1-4-%E8%BC%89%E5%85%A5%E8%B3%87%E6%96%99%E9%9B%86%E4%B8%A6%E4%BD%9C%E5%8F%AF%E8%A6%96%E5%8C%96%E5%88%86%E6%9E%90.ipynb\" target=\"_parent\"><img src=\"https://colab.research.google.com/assets/colab-badge.svg\" alt=\"Open In Colab\"/></a>"
      ]
    },
    {
      "cell_type": "code",
      "source": [
        "# from google.colab import drive\n",
        "# drive.mount('/content/drive')"
      ],
      "metadata": {
        "id": "IIVlNLYLRH1R"
      },
      "execution_count": null,
      "outputs": []
    },
    {
      "cell_type": "markdown",
      "source": [
        "## 設定目前程式資料夾路徑(務必自行更改)"
      ],
      "metadata": {
        "id": "u8Fq6oUAROQo"
      }
    },
    {
      "cell_type": "code",
      "source": [
        "folder = \"/content/\"\n",
        "# folder = \"/content/drive/MyDrive/解密AI黑盒子分享/\""
      ],
      "metadata": {
        "id": "QWXC094ERPU4"
      },
      "execution_count": null,
      "outputs": []
    },
    {
      "cell_type": "markdown",
      "source": [
        "## 下載所需資料集及中文字型"
      ],
      "metadata": {
        "id": "HEYBdEJTO15u"
      }
    },
    {
      "cell_type": "code",
      "source": [
        "!wget https://github.com/ccwu0918/Black-box-of-AI/raw/main/Font/kaiu.ttf\n",
        "!wget https://raw.githubusercontent.com/ccwu0918/Black-box-of-AI/main/Dataset/SalesVolume.csv"
      ],
      "metadata": {
        "id": "KheTzuAgO60F"
      },
      "execution_count": null,
      "outputs": []
    },
    {
      "cell_type": "markdown",
      "source": [
        "## 載入所需套件"
      ],
      "metadata": {
        "id": "YzoE4EcgRYV4"
      }
    },
    {
      "cell_type": "code",
      "execution_count": null,
      "metadata": {
        "id": "4pXqfFWkIduq"
      },
      "outputs": [],
      "source": [
        "# 數據、矩陣處理套件numpy\n",
        "import numpy as np\n",
        "# 繪圖處理套件matplotlib\n",
        "import matplotlib.pyplot as plt\n",
        "# 繪圖處理套件顯示中文matplotlib.font_manager\n",
        "import matplotlib.font_manager as plt_font\n",
        "# 設定中文字體物件和字型檔案路徑\n",
        "twfont1 = plt_font.FontProperties(fname = folder + \"kaiu.ttf\")\n",
        "# twfont1 = plt_font.FontProperties(fname = folder + \"字型/kaiu.ttf\")"
      ]
    },
    {
      "cell_type": "markdown",
      "source": [
        "## 從檔案讀取資料集"
      ],
      "metadata": {
        "id": "Tl4MUpyHRkkX"
      }
    },
    {
      "cell_type": "code",
      "source": [
        "data = np.loadtxt(folder + \"SalesVolume.csv\", delimiter = \",\")\n",
        "# data = np.loadtxt(folder + \"資料集/SalesVolume.csv\", delimiter = \",\")"
      ],
      "metadata": {
        "id": "ypiQRBmtJAfr"
      },
      "execution_count": null,
      "outputs": []
    },
    {
      "cell_type": "markdown",
      "source": [
        "## 分割自變數資料(特徵資料)和依變數資料(標籤資料)"
      ],
      "metadata": {
        "id": "2eprOU_ZSpgw"
      }
    },
    {
      "cell_type": "code",
      "source": [],
      "metadata": {
        "id": "MOxnE5MiTNFK"
      },
      "execution_count": null,
      "outputs": []
    },
    {
      "cell_type": "markdown",
      "source": [
        "## 畫圖做資料可視化分析"
      ],
      "metadata": {
        "id": "jyRPU-bhTjY_"
      }
    },
    {
      "cell_type": "code",
      "source": [
        "plt.figure(figsize=(6,3)) # 設定繪圖區大小\n",
        "# 繪圖區的標題，設定用中文字體twfont1，字體大小20\n",
        "plt.title(\"銷售量vs廣告次數\", fontproperties = twfont1, fontsize = 20)\n",
        "# 設定橫軸和縱軸的標題\n",
        "plt.xlabel(\"廣告次數\", fontproperties = twfont1, fontsize = 20)\n",
        "plt.ylabel(\"銷售量\",  fontproperties = twfont1, fontsize = 20)\n",
        "\n",
        "plt.legend(prop = twfont1)"
      ],
      "metadata": {
        "id": "BBaH69dCKUCh"
      },
      "execution_count": null,
      "outputs": []
    }
  ]
}