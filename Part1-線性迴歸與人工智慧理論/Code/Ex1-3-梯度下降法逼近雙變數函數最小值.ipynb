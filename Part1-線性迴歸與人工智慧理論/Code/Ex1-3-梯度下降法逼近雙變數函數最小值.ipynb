{
  "nbformat": 4,
  "nbformat_minor": 0,
  "metadata": {
    "kernelspec": {
      "display_name": "Python 3",
      "language": "python",
      "name": "python3"
    },
    "language_info": {
      "codemirror_mode": {
        "name": "ipython",
        "version": 3
      },
      "file_extension": ".py",
      "mimetype": "text/x-python",
      "name": "python",
      "nbconvert_exporter": "python",
      "pygments_lexer": "ipython3",
      "version": "3.6.9"
    },
    "colab": {
      "provenance": [],
      "include_colab_link": true
    }
  },
  "cells": [
    {
      "cell_type": "markdown",
      "metadata": {
        "id": "view-in-github",
        "colab_type": "text"
      },
      "source": [
        "<a href=\"https://colab.research.google.com/github/ccwu0918/Black-box-of-AI/blob/main/Part1-%E7%B7%9A%E6%80%A7%E8%BF%B4%E6%AD%B8%E8%88%87%E4%BA%BA%E5%B7%A5%E6%99%BA%E6%85%A7%E7%90%86%E8%AB%96/Code/Ex1-3-%E6%A2%AF%E5%BA%A6%E4%B8%8B%E9%99%8D%E6%B3%95%E9%80%BC%E8%BF%91%E9%9B%99%E8%AE%8A%E6%95%B8%E5%87%BD%E6%95%B8%E6%9C%80%E5%B0%8F%E5%80%BC.ipynb\" target=\"_parent\"><img src=\"https://colab.research.google.com/assets/colab-badge.svg\" alt=\"Open In Colab\"/></a>"
      ]
    },
    {
      "cell_type": "code",
      "metadata": {
        "id": "zuKbtXkDlLYs",
        "colab": {
          "base_uri": "https://localhost:8080/"
        },
        "outputId": "b5fddfae-c859-4702-aa35-c80444d3d558"
      },
      "source": [
        "# from google.colab import drive\n",
        "# drive.mount('/content/drive')"
      ],
      "execution_count": null,
      "outputs": [
        {
          "output_type": "stream",
          "name": "stdout",
          "text": [
            "Mounted at /content/drive\n"
          ]
        }
      ]
    },
    {
      "cell_type": "markdown",
      "source": [
        "## 設定目前程式資料夾路徑(務必自行更改)"
      ],
      "metadata": {
        "id": "dehOE7hX8YLX"
      }
    },
    {
      "cell_type": "code",
      "source": [
        "folder = \"/content/\"\n",
        "# folder = \"/content/drive/MyDrive/解密AI黑盒子分享/\""
      ],
      "metadata": {
        "id": "ioesOutO8Zrm"
      },
      "execution_count": null,
      "outputs": []
    },
    {
      "cell_type": "markdown",
      "source": [
        "## 下載所需資料集及中文字型"
      ],
      "metadata": {
        "id": "HEYBdEJTO15u"
      }
    },
    {
      "cell_type": "code",
      "source": [
        "!wget https://github.com/ccwu0918/Black-box-of-AI/raw/main/Font/kaiu.ttf\n",
        "# !wget https://raw.githubusercontent.com/ccwu0918/Black-box-of-AI/main/Dataset/data3.csv"
      ],
      "metadata": {
        "id": "KheTzuAgO60F"
      },
      "execution_count": null,
      "outputs": []
    },
    {
      "cell_type": "markdown",
      "metadata": {
        "id": "UOKYIDXSknir"
      },
      "source": [
        "## 載入所需套件"
      ]
    },
    {
      "cell_type": "code",
      "metadata": {
        "id": "iPqzHCf0knis"
      },
      "source": [
        "# 數據、矩陣處理套件numpy\n",
        "import numpy as np\n",
        "# 繪圖處理套件matplotlib\n",
        "import matplotlib.pyplot as plt\n",
        "# 繪圖處理套件顯示中文matplotlib.font_manager\n",
        "import matplotlib.font_manager as plt_font\n",
        "# 設定中文字體物件和字型檔案路徑\n",
        "twfont1 = plt_font.FontProperties(fname = folder + \"kaiu.ttf\")\n",
        "# twfont1 = plt_font.FontProperties(fname = folder + \"字型/kaiu.ttf\")\n",
        "# 產生亂數的套件\n",
        "import random"
      ],
      "execution_count": null,
      "outputs": []
    },
    {
      "cell_type": "markdown",
      "metadata": {
        "id": "XB9WxlWnkniw"
      },
      "source": [
        "## 定義雙變數函數f(x,y)=2(x-0.3)<sup>4</sup>+y<sup>4</sup>-4xy+1"
      ]
    },
    {
      "cell_type": "code",
      "metadata": {
        "id": "gU7eocGzkniw"
      },
      "source": [
        "def F(x, y):\n",
        "  return 2 * ( x - 0.3) ** 4 + y ** 4 - 4 * x * y + 1"
      ],
      "execution_count": null,
      "outputs": []
    },
    {
      "cell_type": "markdown",
      "metadata": {
        "id": "B1rK78M-kniz"
      },
      "source": [
        "## 定義雙變數函數的偏導函數"
      ]
    },
    {
      "cell_type": "code",
      "metadata": {
        "id": "2pS6nc4Ukni0"
      },
      "source": [],
      "execution_count": null,
      "outputs": []
    },
    {
      "cell_type": "markdown",
      "metadata": {
        "id": "AX1v_LUokni6"
      },
      "source": [
        "## 設定梯度下降的參數"
      ]
    },
    {
      "cell_type": "code",
      "source": [
        "# 設定學習率，可以調大或調小，觀察梯度下降情況\n",
        "\n",
        "# 亂數取得梯度下降的起點\n",
        "\n",
        "# 設定Step_x、Step_y用來儲存梯度下降每一步的座標\n"
      ],
      "metadata": {
        "id": "l6gK3u5O9DcA"
      },
      "execution_count": null,
      "outputs": []
    },
    {
      "cell_type": "markdown",
      "source": [
        "## 用迴圈執行梯度下降"
      ],
      "metadata": {
        "id": "ZIt7Y2SE-P2W"
      }
    },
    {
      "cell_type": "code",
      "metadata": {
        "id": "1eIPnnbNkni7"
      },
      "source": [],
      "execution_count": null,
      "outputs": []
    },
    {
      "cell_type": "markdown",
      "metadata": {
        "id": "d-WREjr8knjA"
      },
      "source": [
        "## 取x、y坐標軸的數據點，鋪設繪圖的底圖網格"
      ]
    },
    {
      "cell_type": "code",
      "metadata": {
        "id": "7s9n8CDwknjB"
      },
      "source": [
        "# 產生橫軸、縱軸座標的數據點矩陣(在-5和5之間，間隔0.1)\n",
        "x = np.arange(-2, 2, 0.1)\n",
        "y = np.arange(-2, 2, 0.1)\n",
        "# 利用橫軸、縱軸座標的數據點鋪設網點\n",
        "x, y = np.meshgrid(x, y)"
      ],
      "execution_count": null,
      "outputs": []
    },
    {
      "cell_type": "markdown",
      "metadata": {
        "id": "UQPMyMqtknjH"
      },
      "source": [
        "## 劃出函數等高線圖及梯度下降路徑"
      ]
    },
    {
      "cell_type": "code",
      "source": [
        "# 設定繪圖區大小\n",
        "plt.figure(figsize = (10, 10))\n",
        "# 繪圖區的標題，設定用中文字體twfont1，字體大小20\n",
        "plt.title(\"等高線圖\", fontproperties = twfont1, fontsize = 20)\n",
        "# 設定橫軸和縱軸的標題\n",
        "plt.xlabel(\"x\", fontproperties = twfont1, fontsize = 15)\n",
        "plt.ylabel(\"y\", fontproperties = twfont1, fontsize = 15)\n",
        "\n",
        "\n"
      ],
      "metadata": {
        "id": "kLL71UlcPZX8"
      },
      "execution_count": null,
      "outputs": []
    }
  ]
}