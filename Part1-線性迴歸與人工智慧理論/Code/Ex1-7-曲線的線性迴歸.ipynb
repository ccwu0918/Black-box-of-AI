{
  "nbformat": 4,
  "nbformat_minor": 0,
  "metadata": {
    "colab": {
      "provenance": [],
      "include_colab_link": true
    },
    "kernelspec": {
      "name": "python3",
      "display_name": "Python 3"
    },
    "language_info": {
      "name": "python"
    }
  },
  "cells": [
    {
      "cell_type": "markdown",
      "metadata": {
        "id": "view-in-github",
        "colab_type": "text"
      },
      "source": [
        "<a href=\"https://colab.research.google.com/github/ccwu0918/Black-box-of-AI/blob/main/Part1-%E7%B7%9A%E6%80%A7%E8%BF%B4%E6%AD%B8%E8%88%87%E4%BA%BA%E5%B7%A5%E6%99%BA%E6%85%A7%E7%90%86%E8%AB%96/Code/Ex1-7-%E6%9B%B2%E7%B7%9A%E7%9A%84%E7%B7%9A%E6%80%A7%E8%BF%B4%E6%AD%B8.ipynb\" target=\"_parent\"><img src=\"https://colab.research.google.com/assets/colab-badge.svg\" alt=\"Open In Colab\"/></a>"
      ]
    },
    {
      "cell_type": "code",
      "source": [
        "# from google.colab import drive\n",
        "# drive.mount('/content/drive')"
      ],
      "metadata": {
        "id": "LfL6mtE5WI5p"
      },
      "execution_count": null,
      "outputs": []
    },
    {
      "cell_type": "markdown",
      "source": [
        "## 設定目前程式資料夾路徑(務必自行更改)"
      ],
      "metadata": {
        "id": "DGj6ABNEWSO2"
      }
    },
    {
      "cell_type": "code",
      "source": [
        "folder = \"/content/\"\n",
        "# folder = \"/content/drive/MyDrive/解密AI黑盒子分享/\""
      ],
      "metadata": {
        "id": "Y_vKlTl8WUe5"
      },
      "execution_count": null,
      "outputs": []
    },
    {
      "cell_type": "markdown",
      "source": [
        "## 下載所需資料集及中文字型"
      ],
      "metadata": {
        "id": "HEYBdEJTO15u"
      }
    },
    {
      "cell_type": "code",
      "source": [
        "!wget https://github.com/ccwu0918/Black-box-of-AI/raw/main/Font/kaiu.ttf\n",
        "!wget https://raw.githubusercontent.com/ccwu0918/Black-box-of-AI/main/Dataset/SalesVolume.csv"
      ],
      "metadata": {
        "id": "KheTzuAgO60F"
      },
      "execution_count": null,
      "outputs": []
    },
    {
      "cell_type": "markdown",
      "source": [
        "## 載入所需套件"
      ],
      "metadata": {
        "id": "g_N-gv_IeoE8"
      }
    },
    {
      "cell_type": "code",
      "execution_count": null,
      "metadata": {
        "id": "5pjG6MOAeoE8"
      },
      "outputs": [],
      "source": [
        "# 數據、矩陣處理套件numpy\n",
        "import numpy as np\n",
        "# 繪圖處理套件matplotlib\n",
        "import matplotlib.pyplot as plt\n",
        "# 繪圖處理套件顯示中文matplotlib.font_manager\n",
        "import matplotlib.font_manager as plt_font\n",
        "# 設定中文字體物件和字型檔案路徑\n",
        "twfont1 = plt_font.FontProperties(fname = folder + \"kaiu.ttf\")\n",
        "# twfont1 = plt_font.FontProperties(fname = folder + \"字型/kaiu.ttf\")\n",
        "from IPython import display"
      ]
    },
    {
      "cell_type": "markdown",
      "source": [
        "## 從檔案讀取資料集"
      ],
      "metadata": {
        "id": "E1x3JB5LWrZe"
      }
    },
    {
      "cell_type": "code",
      "source": [
        "data = np.loadtxt(folder + \"SalesVolume.csv\", delimiter = \",\")\n",
        "# data = np.loadtxt(folder + \"資料集/SalesVolume.csv\", delimiter = \",\")"
      ],
      "metadata": {
        "id": "ypiQRBmtJAfr"
      },
      "execution_count": null,
      "outputs": []
    },
    {
      "cell_type": "markdown",
      "source": [
        "## 分割自變數資料(特徵資料)和依變數資料(標籤資料)"
      ],
      "metadata": {
        "id": "UH-ZVNUHW7Om"
      }
    },
    {
      "cell_type": "code",
      "source": [
        "data_x = data[0]\n",
        "data_y = data[1]"
      ],
      "metadata": {
        "id": "PVI336k3XCEq"
      },
      "execution_count": null,
      "outputs": []
    },
    {
      "cell_type": "markdown",
      "source": [
        "## 將自變數資料(特徵資料)作特徵縮放(標準化或歸一化選一即可)"
      ],
      "metadata": {
        "id": "oV5SBOwNXYf-"
      }
    },
    {
      "cell_type": "code",
      "source": [
        "# 標準化特徵縮放\n",
        "data_x = (data_x - data_x.mean()) / data_x.std()\n",
        "# 歸一化特徵縮放\n",
        "# data_x = (data_x - data_x.min()) / (data_x.max() - data_x.min())"
      ],
      "metadata": {
        "id": "29dPFtLEXmvI"
      },
      "execution_count": null,
      "outputs": []
    },
    {
      "cell_type": "markdown",
      "source": [
        "## 畫圖做資料可視化分析"
      ],
      "metadata": {
        "id": "UsDp8yFxYX41"
      }
    },
    {
      "cell_type": "code",
      "source": [
        "plt.figure(figsize = (8, 5)) # 設定繪圖區大小\n",
        "# 繪圖區的標題，設定用中文字體twfont1，字體大小15\n",
        "plt.title(\"銷售量vs廣告次數\", fontproperties = twfont1, fontsize = 15)\n",
        "# 設定橫軸和縱軸的標題\n",
        "plt.xlabel(\"廣告次數\", fontproperties = twfont1, fontsize = 15)\n",
        "plt.ylabel(\"銷售量\", fontproperties = twfont1, fontsize = 15)\n",
        "plt.plot(data_x, data_y, \"bo\", label = \"數據點\")\n",
        "plt.legend(prop = twfont1)"
      ],
      "metadata": {
        "id": "BBaH69dCKUCh"
      },
      "execution_count": null,
      "outputs": []
    },
    {
      "cell_type": "markdown",
      "source": [
        "## 組合樣本資料的多次方特徵"
      ],
      "metadata": {
        "id": "qkpSLcuEIKjY"
      }
    },
    {
      "cell_type": "code",
      "source": [],
      "metadata": {
        "id": "XMvUNYGeITr7"
      },
      "execution_count": null,
      "outputs": []
    },
    {
      "cell_type": "markdown",
      "source": [
        "## 分割訓練資料集和測試資料集的特徵矩陣X、標籤矩陣Y"
      ],
      "metadata": {
        "id": "ecCw2B6yY9il"
      }
    },
    {
      "cell_type": "code",
      "source": [
        "Train_X = X[:12]\n",
        "Train_Y = data_y[:12].reshape((-1, 1))\n",
        "Test_X = X[12:]\n",
        "Test_Y = data_y[12:].reshape((-1, 1))"
      ],
      "metadata": {
        "id": "r0KGVrjpVQJQ"
      },
      "execution_count": null,
      "outputs": []
    },
    {
      "cell_type": "markdown",
      "source": [
        "## 定義模型運算函數"
      ],
      "metadata": {
        "id": "vmTC1jsSav-l"
      }
    },
    {
      "cell_type": "code",
      "source": [
        "def F(X):\n",
        "  return np.dot(X, W) + B"
      ],
      "metadata": {
        "id": "YQF4kDx0WWUh"
      },
      "execution_count": null,
      "outputs": []
    },
    {
      "cell_type": "markdown",
      "source": [
        "## 定義損失函數"
      ],
      "metadata": {
        "id": "dqvcIKjfbDJU"
      }
    },
    {
      "cell_type": "code",
      "source": [
        "def Loss(Yh, Y):\n",
        "  return 0.5 * np.sum((Y - Yh) ** 2)"
      ],
      "metadata": {
        "id": "vCezg_6LW4Wk"
      },
      "execution_count": null,
      "outputs": []
    },
    {
      "cell_type": "markdown",
      "source": [
        "## 設定訓練模型的參數"
      ],
      "metadata": {
        "id": "qvX0QqqhbJbl"
      }
    },
    {
      "cell_type": "code",
      "source": [
        "B = np.random.randn(1).reshape((1, 1))\n",
        "W = np.random.randn(2).reshape((-1, 1))\n",
        "ETA = 0.007\n",
        "Step_L = [] # 儲存Loss"
      ],
      "metadata": {
        "id": "ctoEzmFDXZGZ"
      },
      "execution_count": null,
      "outputs": []
    },
    {
      "cell_type": "markdown",
      "source": [
        "## 用迴圈訓練模型"
      ],
      "metadata": {
        "id": "BmY5QYqBbW9g"
      }
    },
    {
      "cell_type": "code",
      "source": [
        "for epoch in range(2500):\n",
        "  Yh = F(Train_X)\n",
        "  W = W - ETA * np.dot(Train_X.T, Yh - Train_Y)\n",
        "  B = B - ETA * np.sum(Yh - Train_Y)\n",
        "  loss = Loss(Yh, Train_Y)\n",
        "  Step_L.append(loss)\n",
        "  if epoch % 5 == 4:\n",
        "    print(\"訓練次數\", epoch + 1, \"損失值\", loss)\n",
        "    display.clear_output(wait = True)"
      ],
      "metadata": {
        "id": "VNyffMqQYQmj"
      },
      "execution_count": null,
      "outputs": []
    },
    {
      "cell_type": "markdown",
      "source": [
        "## 觀察訓練過程中的損失函數Loss變化"
      ],
      "metadata": {
        "id": "VcrSAHBsdMnX"
      }
    },
    {
      "cell_type": "code",
      "source": [
        "plt.figure(figsize = (8, 5)) # 設定繪圖區大小\n",
        "# 繪圖區的標題，設定用中文字體twfont1，字體大小15\n",
        "plt.title(\"Loss變化\", fontproperties = twfont1, fontsize = 15)\n",
        "# 設定橫軸和縱軸的標題\n",
        "plt.xlabel(\"訓練次數\", fontproperties = twfont1, fontsize = 15)\n",
        "plt.ylabel(\"損失函數\", fontproperties = twfont1, fontsize = 15)\n",
        "plt.plot(Step_L, \"b.\", label = \"Loss\")\n",
        "plt.legend(prop = twfont1)"
      ],
      "metadata": {
        "id": "PB1pxhQhb0wD"
      },
      "execution_count": null,
      "outputs": []
    },
    {
      "cell_type": "markdown",
      "source": [
        "## 觀察資料數據和模型函數"
      ],
      "metadata": {
        "id": "Wg8TRDEZdgpk"
      }
    },
    {
      "cell_type": "code",
      "source": [
        "x = np.linspace(-2, 2, 500)\n",
        "plt.figure(figsize = (8, 5)) # 設定繪圖區大小\n",
        "# 繪圖區的標題，設定用中文字體twfont1，字體大小15\n",
        "plt.title(\"銷售量vs廣告次數\", fontproperties = twfont1, fontsize = 15)\n",
        "# 設定橫軸和縱軸的標題\n",
        "plt.xlabel(\"廣告次數\", fontproperties = twfont1, fontsize = 15)\n",
        "plt.ylabel(\"銷售量\", fontproperties = twfont1, fontsize = 15)\n",
        "plt.plot(Train_X[:, 0], Train_Y, \"bo\", label = \"訓練資料\")\n",
        "plt.plot(Test_X[:, 0], Test_Y, \"go\", label = \"測試資料\")\n",
        "plt.plot(x, F(np.vstack([x, x ** 2]).T), \"r-\", label = \"模型\")\n",
        "plt.legend(prop = twfont1)"
      ],
      "metadata": {
        "id": "n8-mstc4cSNC"
      },
      "execution_count": null,
      "outputs": []
    }
  ]
}