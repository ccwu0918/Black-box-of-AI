{
  "nbformat": 4,
  "nbformat_minor": 0,
  "metadata": {
    "colab": {
      "provenance": [],
      "include_colab_link": true
    },
    "kernelspec": {
      "name": "python3",
      "display_name": "Python 3"
    },
    "language_info": {
      "name": "python"
    }
  },
  "cells": [
    {
      "cell_type": "markdown",
      "metadata": {
        "id": "view-in-github",
        "colab_type": "text"
      },
      "source": [
        "<a href=\"https://colab.research.google.com/github/ccwu0918/Black-box-of-AI/blob/main/Part1-%E7%B7%9A%E6%80%A7%E8%BF%B4%E6%AD%B8%E8%88%87%E4%BA%BA%E5%B7%A5%E6%99%BA%E6%85%A7%E7%90%86%E8%AB%96/Code/Ex1-2-%E6%A2%AF%E5%BA%A6%E4%B8%8B%E9%99%8D%E6%B3%95%E9%80%BC%E8%BF%91%E5%A4%9A%E9%A0%85%E5%BC%8F%E5%87%BD%E6%95%B8%E6%9C%80%E5%B0%8F%E5%80%BC.ipynb\" target=\"_parent\"><img src=\"https://colab.research.google.com/assets/colab-badge.svg\" alt=\"Open In Colab\"/></a>"
      ]
    },
    {
      "cell_type": "code",
      "source": [
        "# from google.colab import drive\n",
        "# drive.mount('/content/drive')"
      ],
      "metadata": {
        "colab": {
          "base_uri": "https://localhost:8080/"
        },
        "id": "vLI5vzNpZI5b",
        "outputId": "93cbd722-9c67-4013-b593-65584f49f869"
      },
      "execution_count": null,
      "outputs": [
        {
          "output_type": "stream",
          "name": "stdout",
          "text": [
            "Mounted at /content/drive\n"
          ]
        }
      ]
    },
    {
      "cell_type": "markdown",
      "source": [
        "## 設定目前程式資料夾路徑(務必自行更改)"
      ],
      "metadata": {
        "id": "1kvf3zAtH494"
      }
    },
    {
      "cell_type": "code",
      "source": [
        "folder = \"/content/\"\n",
        "# folder = \"/content/drive/MyDrive/解密AI黑盒子分享/\""
      ],
      "metadata": {
        "id": "I7m794Z9HZye"
      },
      "execution_count": null,
      "outputs": []
    },
    {
      "cell_type": "markdown",
      "source": [
        "## 下載所需資料集及中文字型"
      ],
      "metadata": {
        "id": "HEYBdEJTO15u"
      }
    },
    {
      "cell_type": "code",
      "source": [
        "!wget https://github.com/ccwu0918/Black-box-of-AI/raw/main/Font/kaiu.ttf\n",
        "# !wget https://raw.githubusercontent.com/ccwu0918/Black-box-of-AI/main/Dataset/data3.csv"
      ],
      "metadata": {
        "id": "KheTzuAgO60F"
      },
      "execution_count": null,
      "outputs": []
    },
    {
      "cell_type": "markdown",
      "source": [
        "## 載入所需套件"
      ],
      "metadata": {
        "id": "DvK9mMvII-3O"
      }
    },
    {
      "cell_type": "code",
      "execution_count": null,
      "metadata": {
        "id": "aM_9wn4XAnYV"
      },
      "outputs": [],
      "source": [
        "# 數據、矩陣處理套件numpy\n",
        "import numpy as np\n",
        "# 繪圖處理套件matplotlib\n",
        "import matplotlib.pyplot as plt\n",
        "# 繪圖處理套件顯示中文matplotlib.font_manager\n",
        "import matplotlib.font_manager as plt_font\n",
        "# 設定中文字體物件和字型檔案路徑\n",
        "twfont1 = plt_font.FontProperties(fname = folder + \"kaiu.ttf\")\n",
        "# twfont1 = plt_font.FontProperties(fname = folder + \"字型/kaiu.ttf\")\n",
        "# 產生亂數的套件\n",
        "import random\n",
        "# 控制輸出的套件(動畫使用)\n",
        "from IPython import display"
      ]
    },
    {
      "cell_type": "markdown",
      "source": [
        "## 定義多項式函數"
      ],
      "metadata": {
        "id": "QrrOKtiHUnmz"
      }
    },
    {
      "cell_type": "code",
      "source": [
        "def F(x):\n",
        "  return x ** 4 - 38 * x ** 2 - 48 * x + 24"
      ],
      "metadata": {
        "id": "AZ2GRcxOGzTP"
      },
      "execution_count": null,
      "outputs": []
    },
    {
      "cell_type": "markdown",
      "source": [
        "## 定義多項式函數的導函數"
      ],
      "metadata": {
        "id": "mzZybXk1UuoC"
      }
    },
    {
      "cell_type": "code",
      "source": [
        "def F1(x):\n",
        "  return 4 * x ** 3 - 76 * x - 48"
      ],
      "metadata": {
        "id": "ltd3yvMNU4qy"
      },
      "execution_count": null,
      "outputs": []
    },
    {
      "cell_type": "markdown",
      "source": [
        "## 設定梯度下降的參數"
      ],
      "metadata": {
        "id": "3_ECWY7PZU-6"
      }
    },
    {
      "cell_type": "code",
      "source": [
        "# 設定學習率，可以調大或調小，觀察梯度下降情況\n",
        "\n",
        "# 亂數取得梯度下降的起點\n",
        "\n",
        "# 設定Step_x用來儲存梯度下降每一步的座標\n"
      ],
      "metadata": {
        "id": "4mxX2JB_ZdUh"
      },
      "execution_count": null,
      "outputs": []
    },
    {
      "cell_type": "markdown",
      "source": [
        "## 用迴圈執行梯度下降"
      ],
      "metadata": {
        "id": "J1TF6Og2bh1A"
      }
    },
    {
      "cell_type": "code",
      "source": [],
      "metadata": {
        "id": "NHI-Eqw5ZCCq"
      },
      "execution_count": null,
      "outputs": []
    },
    {
      "cell_type": "markdown",
      "source": [
        "## 取x坐標軸的數據點"
      ],
      "metadata": {
        "id": "3ZGTr5XWVCnc"
      }
    },
    {
      "cell_type": "code",
      "source": [
        "x = np.linspace(-7,7,1000)"
      ],
      "metadata": {
        "id": "rw0KiPqxVWFb"
      },
      "execution_count": null,
      "outputs": []
    },
    {
      "cell_type": "markdown",
      "source": [
        "### 繪圖畫出梯度下降的更新路徑"
      ],
      "metadata": {
        "id": "dJvSHw-3b5SI"
      }
    },
    {
      "cell_type": "code",
      "source": [
        "plt.figure(figsize = (8, 5)) # 設定繪圖區大小\n",
        "# 繪圖區的標題，設定用中文字體twfont1，字體大小15\n",
        "plt.title(\"多項式和其導函數\", fontproperties = twfont1, fontsize = 15)\n",
        "# 設定橫軸和縱軸的標題\n",
        "plt.xlabel(\"x\", fontproperties = twfont1, fontsize = 15)\n",
        "plt.ylabel(\"y\", fontproperties = twfont1, fontsize = 15)\n",
        "\n",
        "\n",
        "plt.legend(prop=twfont1)"
      ],
      "metadata": {
        "id": "snnUPhKfcHBY"
      },
      "execution_count": null,
      "outputs": []
    },
    {
      "cell_type": "markdown",
      "source": [
        "## 用動畫呈現梯度下降的更新路徑"
      ],
      "metadata": {
        "id": "8HsXK1PQdE1A"
      }
    },
    {
      "cell_type": "code",
      "source": [
        "for i in range(len(Step_x)):\n",
        "  plt.figure(figsize = (8, 5))\n",
        "  plt.title(\"多項式和其導函數\", fontproperties = twfont1, fontsize = 12)\n",
        "  plt.xlabel(\"x\", fontproperties = twfont1, fontsize = 12)\n",
        "  plt.ylabel(\"y\", fontproperties = twfont1, fontsize = 12)\n",
        "  plt.plot(x,F(x), \"b-\", label = \"原函數\")\n",
        "\n",
        "  plt.legend(prop = twfont1)\n",
        "  plt.pause(0.1)\n",
        "  # 清除目前的顯示\n",
        "  display.clear_output(wait=True)"
      ],
      "metadata": {
        "colab": {
          "base_uri": "https://localhost:8080/",
          "height": 349
        },
        "id": "qPux6gorlSpd",
        "outputId": "669104ba-3711-4541-a178-3f9e590d4401"
      },
      "execution_count": null,
      "outputs": [
        {
          "output_type": "display_data",
          "data": {
            "text/plain": [
              "<Figure size 576x360 with 1 Axes>"
            ],
            "image/png": "[encoded data removed]"
          },
          "metadata": {
            "needs_background": "light"
          }
        }
      ]
    }
  ]
}